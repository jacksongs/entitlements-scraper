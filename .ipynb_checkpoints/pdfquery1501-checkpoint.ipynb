{
 "cells": [
  {
   "cell_type": "code",
   "execution_count": 3,
   "metadata": {
    "collapsed": false
   },
   "outputs": [],
   "source": []
  },
  {
   "cell_type": "code",
   "execution_count": null,
   "metadata": {
    "collapsed": false
   },
   "outputs": [
    {
     "name": "stderr",
     "output_type": "stream",
     "text": [
      "/Applications/anaconda/lib/python2.7/site-packages/bs4/__init__.py:166: UserWarning: No parser was explicitly specified, so I'm using the best available HTML parser for this system (\"lxml\"). This usually isn't a problem, but if you run this code on another system, or in a different virtual environment, it may use a different parser and behave differently.\n",
      "\n",
      "To get rid of this warning, change this:\n",
      "\n",
      " BeautifulSoup([your markup])\n",
      "\n",
      "to this:\n",
      "\n",
      " BeautifulSoup([your markup], \"lxml\")\n",
      "\n",
      "  markup_type=markup_type))\n"
     ]
    }
   ],
   "source": [
    "# Let's get all the PDFs eh! This takes ages - it's about 500mb for each period!\n",
    "\n",
    "import requests\n",
    "from bs4 import BeautifulSoup\n",
    "\n",
    "pdfs = []\n",
    "\n",
    "urls = {\n",
    "    \"http://www.finance.gov.au/publications/parliamentarians-reporting/parliamentarians-expenditure-P36/\":\"36\",  \n",
    "}    \n",
    "\n",
    "for url in urls.keys():\n",
    "    rep = requests.get(url)\n",
    "    soup = BeautifulSoup(rep.content)\n",
    "    links = soup.find_all(\"a\")\n",
    "    for l in links:\n",
    "        try:\n",
    "            if \"pdf\" in l.get(\"href\"):\n",
    "                pdfs.append(l.get(\"href\"))\n",
    "        except:\n",
    "            pass\n",
    "\n",
    "\n",
    "\n",
    "def download_file(url):\n",
    "    downloaded = !cd pdfs:ls\n",
    "    local_filename = url.split('/')[-1]\n",
    "    if \"30\" in url:\n",
    "        local_filename = \"P30-\"+local_filename\n",
    "    if \"31\" in url:\n",
    "        local_filename = \"P31-\"+local_filename\n",
    "    if local_filename not in downloaded:\n",
    "        # NOTE the stream=True parameter\n",
    "        r = requests.get(url, stream=True)\n",
    "        with open('pdfs/'+local_filename, 'wb') as f:\n",
    "            for chunk in r.iter_content(chunk_size=1024): \n",
    "                if chunk: # filter out keep-alive new chunks\n",
    "                    f.write(chunk)\n",
    "                    #f.flush() commented by recommendation from J.F.Sebastian\n",
    "        return local_filename\n",
    "    \n",
    "    \n",
    "for pdf in pdfs:\n",
    "    download_file(pdf)\n",
    "\n",
    "    "
   ]
  },
  {
   "cell_type": "code",
   "execution_count": 7,
   "metadata": {
    "collapsed": false
   },
   "outputs": [],
   "source": [
    "# Next, let's check about all potential categories by looking at what terms are on the summary page - for all pdfs.\n",
    "\n",
    "sumref = {} # This is to find the summary reference page for all pdfs\n",
    "\n",
    "localpdfs = !cd pdfs;ls # Gets the filenames\n",
    "\n",
    "import pdfquery\n",
    "\n",
    "def get_page(x,y): # this takes the pdfquery object and a list of pages to test (including None as catchall)\n",
    "    for page in y:\n",
    "        if page != None:\n",
    "            x.load(page)\n",
    "            titles = x.pq(\":in_bbox('170.979,683.267,438.506,699.868')\")\n",
    "            for t in titles:\n",
    "                if t.text.strip() == 'Summary of Parliamentary Expenditure by Period':\n",
    "                    return int(page) # This returns the page\n",
    "        else:\n",
    "            x.load()\n",
    "            tree = x.get_tree() # This is a last resort - search (and load!) the whole pdf to search for the summary\n",
    "            for element in tree.iter():\n",
    "                if element.text != '':\n",
    "                    if element.text != None:\n",
    "                        if element.text.strip() == 'Summary of Parliamentary Expenditure by Period':\n",
    "                            for part in element.iterancestors(tag=\"LTPage\"):\n",
    "                                pageref = part.get(\"page_index\")\n",
    "                                return int(pageref)\n",
    "\n",
    "\n",
    "# First, let's find the summary page for everyone\n",
    "for pdffile in localpdfs:\n",
    "    pdf = pdfquery.PDFQuery(\"pdfs/\"+pdffile)\n",
    "    sumref[pdffile] = get_page(pdf,[2,8,5,None]) # The most common pages are 2,8 and 5 - save time by trying these first"
   ]
  },
  {
   "cell_type": "code",
   "execution_count": 10,
   "metadata": {
    "collapsed": false
   },
   "outputs": [
    {
     "ename": "ValueError",
     "evalue": "Shape of passed values is (1, 4), indices imply (4, 4)",
     "output_type": "error",
     "traceback": [
      "\u001b[0;31m---------------------------------------------------------------------------\u001b[0m",
      "\u001b[0;31mValueError\u001b[0m                                Traceback (most recent call last)",
      "\u001b[0;32m<ipython-input-10-d444ee0f5771>\u001b[0m in \u001b[0;36m<module>\u001b[0;34m()\u001b[0m\n\u001b[1;32m     95\u001b[0m     \u001b[0;32mfor\u001b[0m \u001b[0mpart\u001b[0m \u001b[0;32min\u001b[0m \u001b[0mresult\u001b[0m\u001b[0;34m[\u001b[0m\u001b[0;36m0\u001b[0m\u001b[0;34m]\u001b[0m\u001b[0;34m:\u001b[0m\u001b[0;34m\u001b[0m\u001b[0m\n\u001b[1;32m     96\u001b[0m         \u001b[0mbigdata\u001b[0m\u001b[0;34m.\u001b[0m\u001b[0mappend\u001b[0m\u001b[0;34m(\u001b[0m\u001b[0mpart\u001b[0m\u001b[0;34m)\u001b[0m\u001b[0;34m\u001b[0m\u001b[0m\n\u001b[0;32m---> 97\u001b[0;31m     \u001b[0mdf\u001b[0m \u001b[0;34m=\u001b[0m \u001b[0mpd\u001b[0m\u001b[0;34m.\u001b[0m\u001b[0mDataFrame\u001b[0m\u001b[0;34m(\u001b[0m\u001b[0mpart\u001b[0m\u001b[0;34m,\u001b[0m\u001b[0mcolumns\u001b[0m\u001b[0;34m=\u001b[0m\u001b[0;34m[\u001b[0m\u001b[0;34m'Name'\u001b[0m\u001b[0;34m,\u001b[0m\u001b[0;34m'Type'\u001b[0m\u001b[0;34m,\u001b[0m\u001b[0;34m'Period'\u001b[0m\u001b[0;34m,\u001b[0m\u001b[0;34m'Amount'\u001b[0m\u001b[0;34m]\u001b[0m\u001b[0;34m)\u001b[0m\u001b[0;34m\u001b[0m\u001b[0m\n\u001b[0m\u001b[1;32m     98\u001b[0m     \u001b[0;31m# Testing expenditure tally\u001b[0m\u001b[0;34m\u001b[0m\u001b[0;34m\u001b[0m\u001b[0m\n\u001b[1;32m     99\u001b[0m     \u001b[0;32mfor\u001b[0m \u001b[0mperiod\u001b[0m \u001b[0;32min\u001b[0m \u001b[0mresult\u001b[0m\u001b[0;34m[\u001b[0m\u001b[0;36m1\u001b[0m\u001b[0;34m]\u001b[0m\u001b[0;34m.\u001b[0m\u001b[0mvalues\u001b[0m\u001b[0;34m(\u001b[0m\u001b[0;34m)\u001b[0m\u001b[0;34m:\u001b[0m\u001b[0;34m\u001b[0m\u001b[0m\n",
      "\u001b[0;32m/Applications/anaconda/lib/python2.7/site-packages/pandas/core/frame.pyc\u001b[0m in \u001b[0;36m__init__\u001b[0;34m(self, data, index, columns, dtype, copy)\u001b[0m\n\u001b[1;32m    278\u001b[0m                 \u001b[0;32melse\u001b[0m\u001b[0;34m:\u001b[0m\u001b[0;34m\u001b[0m\u001b[0m\n\u001b[1;32m    279\u001b[0m                     mgr = self._init_ndarray(data, index, columns, dtype=dtype,\n\u001b[0;32m--> 280\u001b[0;31m                                              copy=copy)\n\u001b[0m\u001b[1;32m    281\u001b[0m             \u001b[0;32melse\u001b[0m\u001b[0;34m:\u001b[0m\u001b[0;34m\u001b[0m\u001b[0m\n\u001b[1;32m    282\u001b[0m                 \u001b[0mmgr\u001b[0m \u001b[0;34m=\u001b[0m \u001b[0mself\u001b[0m\u001b[0;34m.\u001b[0m\u001b[0m_init_dict\u001b[0m\u001b[0;34m(\u001b[0m\u001b[0;34m{\u001b[0m\u001b[0;34m}\u001b[0m\u001b[0;34m,\u001b[0m \u001b[0mindex\u001b[0m\u001b[0;34m,\u001b[0m \u001b[0mcolumns\u001b[0m\u001b[0;34m,\u001b[0m \u001b[0mdtype\u001b[0m\u001b[0;34m=\u001b[0m\u001b[0mdtype\u001b[0m\u001b[0;34m)\u001b[0m\u001b[0;34m\u001b[0m\u001b[0m\n",
      "\u001b[0;32m/Applications/anaconda/lib/python2.7/site-packages/pandas/core/frame.pyc\u001b[0m in \u001b[0;36m_init_ndarray\u001b[0;34m(self, values, index, columns, dtype, copy)\u001b[0m\n\u001b[1;32m    434\u001b[0m             \u001b[0mvalues\u001b[0m \u001b[0;34m=\u001b[0m \u001b[0m_possibly_infer_to_datetimelike\u001b[0m\u001b[0;34m(\u001b[0m\u001b[0mvalues\u001b[0m\u001b[0;34m)\u001b[0m\u001b[0;34m\u001b[0m\u001b[0m\n\u001b[1;32m    435\u001b[0m \u001b[0;34m\u001b[0m\u001b[0m\n\u001b[0;32m--> 436\u001b[0;31m         \u001b[0;32mreturn\u001b[0m \u001b[0mcreate_block_manager_from_blocks\u001b[0m\u001b[0;34m(\u001b[0m\u001b[0;34m[\u001b[0m\u001b[0mvalues\u001b[0m\u001b[0;34m]\u001b[0m\u001b[0;34m,\u001b[0m \u001b[0;34m[\u001b[0m\u001b[0mcolumns\u001b[0m\u001b[0;34m,\u001b[0m \u001b[0mindex\u001b[0m\u001b[0;34m]\u001b[0m\u001b[0;34m)\u001b[0m\u001b[0;34m\u001b[0m\u001b[0m\n\u001b[0m\u001b[1;32m    437\u001b[0m \u001b[0;34m\u001b[0m\u001b[0m\n\u001b[1;32m    438\u001b[0m     \u001b[0;34m@\u001b[0m\u001b[0mproperty\u001b[0m\u001b[0;34m\u001b[0m\u001b[0m\n",
      "\u001b[0;32m/Applications/anaconda/lib/python2.7/site-packages/pandas/core/internals.pyc\u001b[0m in \u001b[0;36mcreate_block_manager_from_blocks\u001b[0;34m(blocks, axes)\u001b[0m\n\u001b[1;32m   3792\u001b[0m         \u001b[0mblocks\u001b[0m \u001b[0;34m=\u001b[0m \u001b[0;34m[\u001b[0m\u001b[0mgetattr\u001b[0m\u001b[0;34m(\u001b[0m\u001b[0mb\u001b[0m\u001b[0;34m,\u001b[0m \u001b[0;34m'values'\u001b[0m\u001b[0;34m,\u001b[0m \u001b[0mb\u001b[0m\u001b[0;34m)\u001b[0m \u001b[0;32mfor\u001b[0m \u001b[0mb\u001b[0m \u001b[0;32min\u001b[0m \u001b[0mblocks\u001b[0m\u001b[0;34m]\u001b[0m\u001b[0;34m\u001b[0m\u001b[0m\n\u001b[1;32m   3793\u001b[0m         \u001b[0mtot_items\u001b[0m \u001b[0;34m=\u001b[0m \u001b[0msum\u001b[0m\u001b[0;34m(\u001b[0m\u001b[0mb\u001b[0m\u001b[0;34m.\u001b[0m\u001b[0mshape\u001b[0m\u001b[0;34m[\u001b[0m\u001b[0;36m0\u001b[0m\u001b[0;34m]\u001b[0m \u001b[0;32mfor\u001b[0m \u001b[0mb\u001b[0m \u001b[0;32min\u001b[0m \u001b[0mblocks\u001b[0m\u001b[0;34m)\u001b[0m\u001b[0;34m\u001b[0m\u001b[0m\n\u001b[0;32m-> 3794\u001b[0;31m         \u001b[0mconstruction_error\u001b[0m\u001b[0;34m(\u001b[0m\u001b[0mtot_items\u001b[0m\u001b[0;34m,\u001b[0m \u001b[0mblocks\u001b[0m\u001b[0;34m[\u001b[0m\u001b[0;36m0\u001b[0m\u001b[0;34m]\u001b[0m\u001b[0;34m.\u001b[0m\u001b[0mshape\u001b[0m\u001b[0;34m[\u001b[0m\u001b[0;36m1\u001b[0m\u001b[0;34m:\u001b[0m\u001b[0;34m]\u001b[0m\u001b[0;34m,\u001b[0m \u001b[0maxes\u001b[0m\u001b[0;34m,\u001b[0m \u001b[0me\u001b[0m\u001b[0;34m)\u001b[0m\u001b[0;34m\u001b[0m\u001b[0m\n\u001b[0m\u001b[1;32m   3795\u001b[0m \u001b[0;34m\u001b[0m\u001b[0m\n\u001b[1;32m   3796\u001b[0m \u001b[0;34m\u001b[0m\u001b[0m\n",
      "\u001b[0;32m/Applications/anaconda/lib/python2.7/site-packages/pandas/core/internals.pyc\u001b[0m in \u001b[0;36mconstruction_error\u001b[0;34m(tot_items, block_shape, axes, e)\u001b[0m\n\u001b[1;32m   3769\u001b[0m         \u001b[0;32mraise\u001b[0m \u001b[0me\u001b[0m\u001b[0;34m\u001b[0m\u001b[0m\n\u001b[1;32m   3770\u001b[0m     raise ValueError(\"Shape of passed values is {0}, indices imply {1}\".format(\n\u001b[0;32m-> 3771\u001b[0;31m         passed,implied))\n\u001b[0m\u001b[1;32m   3772\u001b[0m \u001b[0;34m\u001b[0m\u001b[0m\n\u001b[1;32m   3773\u001b[0m \u001b[0;34m\u001b[0m\u001b[0m\n",
      "\u001b[0;31mValueError\u001b[0m: Shape of passed values is (1, 4), indices imply (4, 4)"
     ]
    }
   ],
   "source": [
    "# This checks whether the total expenditure and the items added up are equal to each other.\n",
    "\n",
    "import ast\n",
    "\n",
    "import pandas as pd\n",
    "from IPython.display import display\n",
    "import collections                                         \n",
    "\n",
    "def get_sum(x,y): #This takes the pdf and the page reference and produces summary stats\n",
    "    refs = {}\n",
    "    data = []\n",
    "\n",
    "    colcounter = []\n",
    "    colrefs = set()\n",
    "    coldata = {}\n",
    "    \n",
    "   \n",
    "    summary = x.get_tree(y)\n",
    "    \n",
    "    count = 0\n",
    "    for element in summary.iter(): # this gets the name. It's the second text element on the page, so we need a count.\n",
    "        if element.text != None:\n",
    "            if element.text != '':\n",
    "                count += 1\n",
    "                if count == 2:\n",
    "                    nom = element.text.strip()\n",
    "                    break\n",
    "                \n",
    "    for element in summary.iter(): # This checks where the family expenses kick in\n",
    "        if element.tag != \"pdfxml\":\n",
    "            if element.text != '':\n",
    "                if ast.literal_eval(element.get(\"bbox\"))[0] in [39.146,52.106]:\n",
    "                    refs[ast.literal_eval(element.get(\"bbox\"))[1]] = element.text.strip()\n",
    "                    if \"Family Travel Costs\" == element.text.strip():\n",
    "                        family = ast.literal_eval(element.get(\"bbox\"))[1]\n",
    "                #print element.text,ast.literal_eval(element.get(\"bbox\"))\n",
    "    #print 'refs',refs\n",
    "    \n",
    "    # This gets the column positions for the data\n",
    "    for element in summary.iter():\n",
    "        if element.tag != \"pdfxml\":\n",
    "            if element.text != '':\n",
    "                if ast.literal_eval(element.get(\"bbox\"))[1] in refs.keys():\n",
    "                    if '$' in element.text:\n",
    "                        colcounter.append(int(ast.literal_eval(element.get(\"bbox\"))[2]))\n",
    "                        #data[refs[ast.literal_eval(element.get(\"bbox\"))[1]]] = element.text\n",
    "    \n",
    "    #print 'colcounter',colcounter\n",
    "    counter = collections.Counter(colcounter)\n",
    "    for group in counter.most_common():\n",
    "        if group[1] > 5: # This removes footnotes stuffing up the column alignment\n",
    "            colrefs.update([group[0]])\n",
    "    #print 'colrefs',colrefs\n",
    "    \n",
    "    # This creates a string for each data column                    \n",
    "    for ref in colrefs:\n",
    "        coldata[ref] = ''\n",
    "\n",
    "    # This creates the string for each column\n",
    "    for element in summary.iter():\n",
    "        if element.tag != \"pdfxml\":\n",
    "            if element.text != '':\n",
    "                for ref in colrefs:\n",
    "                    if -1 < ref-ast.literal_eval(element.get(\"bbox\"))[2] < 1:\n",
    "                        if '$' not in element.text:\n",
    "                            coldata[ref]+=element.text\n",
    "    #print 'coldata',coldata\n",
    "    \n",
    "    # This gets the location of the Family Travel Costs divider and appends Family Travel Costs to \n",
    "    # Line items below, excluding Total Expenditure\n",
    "    for r in refs.keys():\n",
    "        if r < family:\n",
    "            if refs[r] != 'Total Expenditure':\n",
    "                refs[r] = refs[r] + ' - Family'                        \n",
    "\n",
    "    # This gets the data\n",
    "    for element in summary.iter():\n",
    "        if element.tag != \"pdfxml\":\n",
    "            if element.text != '':\n",
    "                for ref in refs.keys():\n",
    "                    if ast.literal_eval(element.get(\"bbox\"))[1] == ref:\n",
    "                        for col in coldata.keys():\n",
    "                            if -1<ast.literal_eval(element.get(\"bbox\"))[2]-col<30: # This checks to see if the data bounding box matches up to the column (with some fat to allow for footnotes)\n",
    "                                if \" \" in element.text:\n",
    "                                    data.append([nom,refs[ref],coldata[col],float(element.text.replace(\"$\",\"\").replace(\",\",\"\").split(\" \")[0])])\n",
    "                                else:\n",
    "                                    data.append([nom,refs[ref],coldata[col],float(element.text.replace(\"$\",\"\").replace(\",\",\"\"))])\n",
    "    return data,coldata\n",
    "\n",
    "bigdata = []\n",
    "\n",
    "for name in sumref.keys():\n",
    "    pdf = pdfquery.PDFQuery(\"pdfs/\"+name)\n",
    "    result = get_sum(pdf,sumref[name])\n",
    "    for part in result[0]:\n",
    "        bigdata.append(part)\n",
    "    #df = pd.DataFrame(part,columns=['Name','Type','Period','Amount'])\n",
    "    # Testing expenditure tally\n",
    "    #for period in result[1].values():\n",
    "    #    if not -0.01 < round(df[(df['Type']!='Total Expenditure')&(df['Period']!=period)]['Amount'].sum(),2) - round(df[(df['Type']=='Total Expenditure')&(df['Period']!=period)]['Amount'].sum(),2) < 0.01:\n",
    "    #        print name,period\n",
    "df = pd.DataFrame(bigdata,columns=['Name','Type','Period','Amount'])\n"
   ]
  },
  {
   "cell_type": "code",
   "execution_count": 95,
   "metadata": {
    "collapsed": false
   },
   "outputs": [
    {
     "data": {
      "text/plain": [
       "0     <LTTextBoxHorizontal bbox=\"[44.536, 518.031, 3...\n",
       "1     <LTTextBoxHorizontal bbox=\"[44.536, 518.031, 3...\n",
       "2     <LTTextBoxHorizontal bbox=\"[44.536, 518.031, 3...\n",
       "3     <LTTextBoxHorizontal bbox=\"[44.536, 518.031, 3...\n",
       "4     <LTTextBoxHorizontal bbox=\"[44.536, 518.031, 3...\n",
       "5     <LTTextBoxHorizontal bbox=\"[44.536, 518.031, 3...\n",
       "6     <LTTextBoxHorizontal bbox=\"[44.536, 518.031, 3...\n",
       "7     <LTTextBoxHorizontal bbox=\"[44.536, 518.031, 3...\n",
       "8     <LTTextBoxHorizontal bbox=\"[44.536, 518.031, 3...\n",
       "9     <LTTextBoxHorizontal bbox=\"[44.536, 518.031, 3...\n",
       "10    <LTTextBoxHorizontal bbox=\"[44.536, 518.031, 3...\n",
       "11    <LTTextBoxHorizontal bbox=\"[44.536, 518.031, 3...\n",
       "12    <LTTextBoxHorizontal bbox=\"[44.536, 518.031, 3...\n",
       "13    <LTTextBoxHorizontal bbox=\"[44.536, 518.031, 3...\n",
       "14    <LTTextBoxHorizontal bbox=\"[44.536, 518.031, 3...\n",
       "15    <LTTextBoxHorizontal bbox=\"[44.536, 518.031, 3...\n",
       "16    <LTTextBoxHorizontal bbox=\"[44.536, 518.031, 3...\n",
       "17    <LTTextBoxHorizontal bbox=\"[44.536, 518.031, 3...\n",
       "18    <LTTextBoxHorizontal bbox=\"[44.536, 518.031, 3...\n",
       "19    <LTTextBoxHorizontal bbox=\"[44.536, 518.031, 3...\n",
       "20    <LTTextBoxHorizontal bbox=\"[44.536, 518.031, 3...\n",
       "21    <LTTextBoxHorizontal bbox=\"[44.536, 518.031, 3...\n",
       "Name: Name, dtype: object"
      ]
     },
     "execution_count": 95,
     "metadata": {},
     "output_type": "execute_result"
    }
   ],
   "source": [
    "df['Name']"
   ]
  },
  {
   "cell_type": "code",
   "execution_count": 76,
   "metadata": {
    "collapsed": false
   },
   "outputs": [
    {
     "data": {
      "text/html": [
       "<div>\n",
       "<table border=\"1\" class=\"dataframe\">\n",
       "  <thead>\n",
       "    <tr style=\"text-align: right;\">\n",
       "      <th></th>\n",
       "      <th>Type</th>\n",
       "      <th>Period</th>\n",
       "      <th>Amount</th>\n",
       "    </tr>\n",
       "  </thead>\n",
       "  <tbody>\n",
       "    <tr>\n",
       "      <th>0</th>\n",
       "      <td>Parliamentary Travelling Allowance</td>\n",
       "      <td>Expenses From 1 July 2014</td>\n",
       "      <td>7148.00</td>\n",
       "    </tr>\n",
       "    <tr>\n",
       "      <th>1</th>\n",
       "      <td>Fares</td>\n",
       "      <td>Expenses From 1 July 2014</td>\n",
       "      <td>27286.76</td>\n",
       "    </tr>\n",
       "    <tr>\n",
       "      <th>2</th>\n",
       "      <td>Private-Plated Vehicle</td>\n",
       "      <td>Expenses From 1 July 2014</td>\n",
       "      <td>5010.98</td>\n",
       "    </tr>\n",
       "    <tr>\n",
       "      <th>3</th>\n",
       "      <td>COMCAR</td>\n",
       "      <td>Expenses From 1 July 2014</td>\n",
       "      <td>1398.58</td>\n",
       "    </tr>\n",
       "    <tr>\n",
       "      <th>4</th>\n",
       "      <td>Cabcharge</td>\n",
       "      <td>Expenses From 1 July 2014</td>\n",
       "      <td>40.87</td>\n",
       "    </tr>\n",
       "    <tr>\n",
       "      <th>5</th>\n",
       "      <td>Other Car Costs</td>\n",
       "      <td>Expenses From 1 July 2014</td>\n",
       "      <td>0.00</td>\n",
       "    </tr>\n",
       "    <tr>\n",
       "      <th>6</th>\n",
       "      <td>Office Consumables and Services</td>\n",
       "      <td>Expenses From 1 July 2014</td>\n",
       "      <td>5702.22</td>\n",
       "    </tr>\n",
       "    <tr>\n",
       "      <th>7</th>\n",
       "      <td>Printing and Communications</td>\n",
       "      <td>Expenses From 1 July 2014</td>\n",
       "      <td>25704.41</td>\n",
       "    </tr>\n",
       "    <tr>\n",
       "      <th>8</th>\n",
       "      <td>Publications</td>\n",
       "      <td>Expenses From 1 July 2014</td>\n",
       "      <td>1523.99</td>\n",
       "    </tr>\n",
       "    <tr>\n",
       "      <th>9</th>\n",
       "      <td>Telecommunications - Usage</td>\n",
       "      <td>Expenses From 1 July 2014</td>\n",
       "      <td>3020.24</td>\n",
       "    </tr>\n",
       "    <tr>\n",
       "      <th>10</th>\n",
       "      <td>Parliamentary Travelling Allowance</td>\n",
       "      <td>Expenses Before 1 July 2014</td>\n",
       "      <td>3341.00</td>\n",
       "    </tr>\n",
       "    <tr>\n",
       "      <th>11</th>\n",
       "      <td>Fares</td>\n",
       "      <td>Expenses Before 1 July 2014</td>\n",
       "      <td>3203.69</td>\n",
       "    </tr>\n",
       "    <tr>\n",
       "      <th>12</th>\n",
       "      <td>Private-Plated Vehicle</td>\n",
       "      <td>Expenses Before 1 July 2014</td>\n",
       "      <td>194.99</td>\n",
       "    </tr>\n",
       "    <tr>\n",
       "      <th>13</th>\n",
       "      <td>COMCAR</td>\n",
       "      <td>Expenses Before 1 July 2014</td>\n",
       "      <td>202.00</td>\n",
       "    </tr>\n",
       "    <tr>\n",
       "      <th>14</th>\n",
       "      <td>Cabcharge</td>\n",
       "      <td>Expenses Before 1 July 2014</td>\n",
       "      <td>60.44</td>\n",
       "    </tr>\n",
       "    <tr>\n",
       "      <th>15</th>\n",
       "      <td>Other Car Costs</td>\n",
       "      <td>Expenses Before 1 July 2014</td>\n",
       "      <td>514.03</td>\n",
       "    </tr>\n",
       "    <tr>\n",
       "      <th>16</th>\n",
       "      <td>Office Consumables and Services</td>\n",
       "      <td>Expenses Before 1 July 2014</td>\n",
       "      <td>250.98</td>\n",
       "    </tr>\n",
       "    <tr>\n",
       "      <th>17</th>\n",
       "      <td>Printing and Communications</td>\n",
       "      <td>Expenses Before 1 July 2014</td>\n",
       "      <td>3556.07</td>\n",
       "    </tr>\n",
       "    <tr>\n",
       "      <th>18</th>\n",
       "      <td>Publications</td>\n",
       "      <td>Expenses Before 1 July 2014</td>\n",
       "      <td>597.44</td>\n",
       "    </tr>\n",
       "    <tr>\n",
       "      <th>19</th>\n",
       "      <td>Telecommunications - Usage</td>\n",
       "      <td>Expenses Before 1 July 2014</td>\n",
       "      <td>0.00</td>\n",
       "    </tr>\n",
       "    <tr>\n",
       "      <th>20</th>\n",
       "      <td>Domestic Scheduled Fares - Family</td>\n",
       "      <td>Expenses From 1 July 2014</td>\n",
       "      <td>0.00</td>\n",
       "    </tr>\n",
       "    <tr>\n",
       "      <th>21</th>\n",
       "      <td>Total Expenditure</td>\n",
       "      <td>Expenses From 1 July 2014</td>\n",
       "      <td>134414.50</td>\n",
       "    </tr>\n",
       "    <tr>\n",
       "      <th>22</th>\n",
       "      <td>Domestic Scheduled Fares - Family</td>\n",
       "      <td>Expenses Before 1 July 2014</td>\n",
       "      <td>1521.08</td>\n",
       "    </tr>\n",
       "    <tr>\n",
       "      <th>23</th>\n",
       "      <td>Total Expenditure</td>\n",
       "      <td>Expenses Before 1 July 2014</td>\n",
       "      <td>15613.07</td>\n",
       "    </tr>\n",
       "    <tr>\n",
       "      <th>24</th>\n",
       "      <td>Overseas Travel</td>\n",
       "      <td>Expenses From 1 July 2014</td>\n",
       "      <td>0.00</td>\n",
       "    </tr>\n",
       "    <tr>\n",
       "      <th>25</th>\n",
       "      <td>Overseas Travel</td>\n",
       "      <td>Expenses Before 1 July 2014</td>\n",
       "      <td>0.00</td>\n",
       "    </tr>\n",
       "    <tr>\n",
       "      <th>26</th>\n",
       "      <td>Charter</td>\n",
       "      <td>Expenses From 1 July 2014</td>\n",
       "      <td>0.00</td>\n",
       "    </tr>\n",
       "    <tr>\n",
       "      <th>27</th>\n",
       "      <td>Charter</td>\n",
       "      <td>Expenses Before 1 July 2014</td>\n",
       "      <td>0.00</td>\n",
       "    </tr>\n",
       "    <tr>\n",
       "      <th>28</th>\n",
       "      <td>Office Facilities</td>\n",
       "      <td>Expenses From 1 July 2014</td>\n",
       "      <td>52567.47</td>\n",
       "    </tr>\n",
       "    <tr>\n",
       "      <th>29</th>\n",
       "      <td>Office Facilities</td>\n",
       "      <td>Expenses Before 1 July 2014</td>\n",
       "      <td>1976.36</td>\n",
       "    </tr>\n",
       "    <tr>\n",
       "      <th>30</th>\n",
       "      <td>Office Fit Outs</td>\n",
       "      <td>Expenses From 1 July 2014</td>\n",
       "      <td>0.00</td>\n",
       "    </tr>\n",
       "    <tr>\n",
       "      <th>31</th>\n",
       "      <td>Office Fit Outs</td>\n",
       "      <td>Expenses Before 1 July 2014</td>\n",
       "      <td>0.00</td>\n",
       "    </tr>\n",
       "  </tbody>\n",
       "</table>\n",
       "</div>"
      ],
      "text/plain": [
       "                                  Type                        Period  \\\n",
       "0   Parliamentary Travelling Allowance    Expenses From 1 July 2014    \n",
       "1                                Fares    Expenses From 1 July 2014    \n",
       "2               Private-Plated Vehicle    Expenses From 1 July 2014    \n",
       "3                               COMCAR    Expenses From 1 July 2014    \n",
       "4                            Cabcharge    Expenses From 1 July 2014    \n",
       "5                      Other Car Costs    Expenses From 1 July 2014    \n",
       "6      Office Consumables and Services    Expenses From 1 July 2014    \n",
       "7          Printing and Communications    Expenses From 1 July 2014    \n",
       "8                         Publications    Expenses From 1 July 2014    \n",
       "9           Telecommunications - Usage    Expenses From 1 July 2014    \n",
       "10  Parliamentary Travelling Allowance  Expenses Before 1 July 2014    \n",
       "11                               Fares  Expenses Before 1 July 2014    \n",
       "12              Private-Plated Vehicle  Expenses Before 1 July 2014    \n",
       "13                              COMCAR  Expenses Before 1 July 2014    \n",
       "14                           Cabcharge  Expenses Before 1 July 2014    \n",
       "15                     Other Car Costs  Expenses Before 1 July 2014    \n",
       "16     Office Consumables and Services  Expenses Before 1 July 2014    \n",
       "17         Printing and Communications  Expenses Before 1 July 2014    \n",
       "18                        Publications  Expenses Before 1 July 2014    \n",
       "19          Telecommunications - Usage  Expenses Before 1 July 2014    \n",
       "20   Domestic Scheduled Fares - Family    Expenses From 1 July 2014    \n",
       "21                   Total Expenditure    Expenses From 1 July 2014    \n",
       "22   Domestic Scheduled Fares - Family  Expenses Before 1 July 2014    \n",
       "23                   Total Expenditure  Expenses Before 1 July 2014    \n",
       "24                     Overseas Travel    Expenses From 1 July 2014    \n",
       "25                     Overseas Travel  Expenses Before 1 July 2014    \n",
       "26                             Charter    Expenses From 1 July 2014    \n",
       "27                             Charter  Expenses Before 1 July 2014    \n",
       "28                   Office Facilities    Expenses From 1 July 2014    \n",
       "29                   Office Facilities  Expenses Before 1 July 2014    \n",
       "30                     Office Fit Outs    Expenses From 1 July 2014    \n",
       "31                     Office Fit Outs  Expenses Before 1 July 2014    \n",
       "\n",
       "       Amount  \n",
       "0     7148.00  \n",
       "1    27286.76  \n",
       "2     5010.98  \n",
       "3     1398.58  \n",
       "4       40.87  \n",
       "5        0.00  \n",
       "6     5702.22  \n",
       "7    25704.41  \n",
       "8     1523.99  \n",
       "9     3020.24  \n",
       "10    3341.00  \n",
       "11    3203.69  \n",
       "12     194.99  \n",
       "13     202.00  \n",
       "14      60.44  \n",
       "15     514.03  \n",
       "16     250.98  \n",
       "17    3556.07  \n",
       "18     597.44  \n",
       "19       0.00  \n",
       "20       0.00  \n",
       "21  134414.50  \n",
       "22    1521.08  \n",
       "23   15613.07  \n",
       "24       0.00  \n",
       "25       0.00  \n",
       "26       0.00  \n",
       "27       0.00  \n",
       "28   52567.47  \n",
       "29    1976.36  \n",
       "30       0.00  \n",
       "31       0.00  "
      ]
     },
     "metadata": {},
     "output_type": "display_data"
    },
    {
     "name": "stdout",
     "output_type": "stream",
     "text": [
      "129403.52\n",
      "134414.5\n",
      "P35_PARKE_Melissa.pdf Expenses Before 1 July 2014 \n",
      "15418.08\n",
      "15613.07\n",
      "P35_PARKE_Melissa.pdf Expenses From 1 July 2014 \n"
     ]
    }
   ],
   "source": [
    "# error in Melissa Park - it overstates her expenses\n",
    "for name in ['P35_PARKE_Melissa.pdf']:\n",
    "    pdf = pdfquery.PDFQuery(\"pdfs/\"+name)\n",
    "    result = get_sum(pdf,sumref[name])\n",
    "\n",
    "    df = pd.DataFrame(result[0],columns=['Type','Period','Amount'])\n",
    "    display(df)\n",
    "    # Testing expenditure tally\n",
    "    for period in result[1].values():\n",
    "        print round(df[(df['Type']!='Total Expenditure')&(df['Period']!=period)]['Amount'].sum(),2)\n",
    "        print round(df[(df['Type']=='Total Expenditure')&(df['Period']!=period)]['Amount'].sum(),2)\n",
    "        if not -0.01 < round(df[(df['Type']!='Total Expenditure')&(df['Period']!=period)]['Amount'].sum(),2) - round(df[(df['Type']=='Total Expenditure')&(df['Period']!=period)]['Amount'].sum(),2) < 0.01:\n",
    "            print name,period"
   ]
  },
  {
   "cell_type": "code",
   "execution_count": 107,
   "metadata": {
    "collapsed": false
   },
   "outputs": [
    {
     "name": "stdout",
     "output_type": "stream",
     "text": [
      "1 July to 31 December 2014 \n",
      "The Hon Melissa Parke MP \n",
      "Summary of Parliamentary Expenditure by Period \n",
      "Expenses From \n",
      "1 July 2014 \n",
      "Expenses Before \n",
      "1 July 2014 \n",
      "Parliamentary Travelling Allowance \n",
      "Fares \n",
      "Private-Plated Vehicle \n",
      "COMCAR \n",
      "Cabcharge \n",
      "Other Car Costs \n",
      "Office Consumables and Services \n",
      "Printing and Communications \n",
      "Publications \n",
      "Telecommunications - Usage \n",
      "Domestic Scheduled Fares \n",
      "Total Expenditure \n",
      "1 Includes an adjustment of -$25.00 \n",
      "2 Includes an adjustment of -$25.00 \n",
      "$7,148.00 \n",
      "$27,286.76 \n",
      "1 \n",
      "$5,010.98 \n",
      "$1,398.58 \n",
      "$40.87 \n",
      "$0.00 \n",
      "$5,702.22 \n",
      "$25,704.41 \n",
      "$1,523.99 \n",
      "$3,020.24 \n",
      "$3,341.00 \n",
      "$3,203.69 \n",
      "$194.99 2 \n",
      "$202.00 \n",
      "$60.44 \n",
      "$514.03 \n",
      "$250.98 \n",
      "$3,556.07 \n",
      "$597.44 \n",
      "$0.00 \n",
      "$0.00 \n",
      "$134,414.50 \n",
      "$1,521.08 \n",
      "$15,613.07 \n",
      "Travelling Allowance \n",
      "Overseas Travel \n",
      "$0.00 \n",
      "$0.00 \n",
      "Domestic Scheduled Fares \n",
      "Charter \n",
      "$0.00 \n",
      "$0.00 \n",
      "Car Costs \n",
      "Office Facilities \n",
      "$52,567.47 \n",
      "$1,976.36 \n",
      "Office Fit Outs \n",
      "$0.00 \n",
      "$0.00 \n",
      "Office Administrative Costs \n",
      "Telecommunications \n",
      "Family Travel Costs \n",
      "Page 2 of 22 \n"
     ]
    }
   ],
   "source": [
    "for name in ['P35_PARKE_Melissa.pdf']:\n",
    "    pdf = pdfquery.PDFQuery(\"pdfs/\"+name)\n",
    "    tree = pdf.get_tree(2)\n",
    "    for element in tree.iter():\n",
    "        if element.text != None:\n",
    "            if element.text != '':\n",
    "                print element.text"
   ]
  },
  {
   "cell_type": "code",
   "execution_count": 104,
   "metadata": {
    "collapsed": false
   },
   "outputs": [
    {
     "name": "stdout",
     "output_type": "stream",
     "text": [
      "The Hon Melissa Parke MP \n"
     ]
    }
   ],
   "source": [
    "for element in tree.iter():\n",
    "    if element.text != None:\n",
    "        if element.text != '':\n",
    "            print element.text\n",
    "            break"
   ]
  },
  {
   "cell_type": "code",
   "execution_count": 177,
   "metadata": {
    "collapsed": false
   },
   "outputs": [
    {
     "data": {
      "text/plain": [
       "{'Car Costs': {1, 2, 4, 10, 11, 12, 13, 14, 23, 26},\n",
       " 'Domestic Scheduled Fares': {2, 4, 8, 9, 21, 23, 25, 30},\n",
       " 'Family Travel Costs': {2, 4, 21, 23, 30},\n",
       " 'Office Administrative Costs': {2, 4, 17, 18, 19, 23, 28},\n",
       " 'Overseas Travel': {2, 4, 6, 7},\n",
       " 'Summary of Parliamentary Expenditure by Period': {2},\n",
       " 'Telecommunications': {1, 2, 4, 20, 23, 29},\n",
       " 'Travelling Allowance': {2, 4, 5, 23, 24}}"
      ]
     },
     "execution_count": 177,
     "metadata": {},
     "output_type": "execute_result"
    }
   ],
   "source": [
    "# Let's get some values about the doc. This will also give us information about what information to expect.\n",
    "\n",
    "### First, check what kind of expenses are in there, and whether there are family expenses, \n",
    "# and return what pages they are on.\n",
    "\n",
    "# These are our important categories:\n",
    "# Travelling Allowance / Parliamentary Travelling Allowance\n",
    "# Overseas Travel\n",
    "# Domestic Scheduled Fares / Fares\n",
    "# Car Costs / Private-Plated Vehicle\n",
    "# Car Costs / COMCAR\n",
    "# Car Costs / Cabcharge\n",
    "# Office Administrative Costs / Office Consumables and Services\n",
    "# Office Administrative Costs / Printing and Communications\n",
    "# Office Administrative Costs / Publications\n",
    "# Telecommunications / Telecommunications - Usage\n",
    "# Telecommunications / Telecommunications - Residential - Official\n",
    "# Family Travel Costs / various\n",
    "\n",
    "cats = [\n",
    "    \"Travelling Allowance / Parliamentary Travelling Allowance\",\n",
    "\"Overseas Travel\",\n",
    "\"Domestic Scheduled Fares / Fares\",\n",
    "\"Car Costs / Private-Plated Vehicle\",\n",
    "\"Car Costs / COMCAR\",\n",
    "\"Car Costs / Cabcharge\",\n",
    "\"Office Administrative Costs / Office Consumables and Services\",\n",
    "\"Office Administrative Costs / Printing and Communications\",\n",
    "\"Office Administrative Costs / Publications\",\n",
    "\"Telecommunications / Telecommunications - Usage\",\n",
    "\"Telecommunications / Telecommunications - Residential - Official\",\n",
    "\"Family Travel Costs / various\",\n",
    "\"Summary of Parliamentary Expenditure by Period / \"\n",
    "]\n",
    "\n",
    "\n",
    "import ast\n",
    "\n",
    "pagerefs = {} # This is to record the page refs for the various categories\n",
    "\n",
    "dics = {} # This holds all our data\n",
    "\n",
    "\n",
    "\n",
    "for i,element in enumerate(tree.iter()):\n",
    "    \n",
    "    # This runs through each element...\n",
    "    if element.tag != \"pdfxml\": # excludes the first container element\n",
    "        if element.text != '': # excludes empty elements\n",
    "            if element.text != None: # excludes other empty elements\n",
    "                for c in cats: # This finds what page each of the important categories is on\n",
    "                    if c.split(\" / \")[0] in element.text.strip():\n",
    "                        for pageno in element.iterancestors(tag=\"LTPage\"):\n",
    "                            pagerefs.setdefault(c.split(\" / \")[0], set()).update([int(pageno.get(\"page_index\"))])\n",
    "\n",
    "    # This part repeats the same as above, but is for collecting the data.\n",
    "    if element.tag != \"pdfxml\": # excludes the first container element\n",
    "        if element.text != '': # excludes empty elements\n",
    "            if element.text != None: # excludes other empty elements\n",
    "                # This part adds all the data elements to the dics disctionary is they line up horizontally.\n",
    "                #if round(ast.literal_eval(element.get(\"bbox\"))[1],1) in dics[page].keys():\n",
    "                    #print page,element.text,element.get(\"bbox\")\n",
    "                #    dics[page][round(ast.literal_eval(element.get(\"bbox\"))[1],1)].append(element.text)\n",
    "                #else:\n",
    "                    #print page,element.text,element.get(\"bbox\")\n",
    "                #    dics[page][round(ast.literal_eval(element.get(\"bbox\"))[1],1)] = [element.text]\n",
    "                pass\n",
    "\n",
    "pagerefs"
   ]
  },
  {
   "cell_type": "code",
   "execution_count": 228,
   "metadata": {
    "collapsed": false
   },
   "outputs": [
    {
     "name": "stdout",
     "output_type": "stream",
     "text": [
      "Expenditure checks out?\n",
      "----\n",
      "EXPENSES BEFORE 1 JULY 2014 \n",
      "Item tally: 193815.97\n",
      "Total     : 193815.97\n",
      "-----\n",
      "EXPENSES FROM 1 JULY 2014 \n",
      "Item tally: 15039.78\n",
      "Total     : 15039.78\n",
      "-----\n"
     ]
    }
   ],
   "source": []
  },
  {
   "cell_type": "code",
   "execution_count": 168,
   "metadata": {
    "collapsed": false
   },
   "outputs": [
    {
     "data": {
      "text/plain": [
       "{'Car Costs': {'1', '10', '11', '12', '13', '14', '2', '23', '26', '4'},\n",
       " 'Domestic Scheduled Fares': {'2', '21', '23', '25', '30', '4', '8', '9'},\n",
       " 'Family Travel Costs': {'2', '21', '23', '30', '4'},\n",
       " 'Office Administrative Costs': {'17', '18', '19', '2', '23', '28', '4'},\n",
       " 'Overseas Travel': {'2', '4', '6', '7'},\n",
       " 'Summary of Parliamentary Expenditure by Period': {'2'},\n",
       " 'Telecommunications': {'1', '2', '20', '23', '29', '4'},\n",
       " 'Travelling Allowance': {'2', '23', '24', '4', '5'}}"
      ]
     },
     "execution_count": 168,
     "metadata": {},
     "output_type": "execute_result"
    }
   ],
   "source": [
    "pagerefs"
   ]
  },
  {
   "cell_type": "code",
   "execution_count": 185,
   "metadata": {
    "collapsed": false
   },
   "outputs": [
    {
     "name": "stdout",
     "output_type": "stream",
     "text": [
      "Car Costs\n",
      "10\n",
      "pp [30.362, 673.077, 140.462, 688.401]\n",
      "cc [30.362, 297.669, 75.662, 312.993]\n",
      "11\n",
      "cc [30.362, 673.077, 75.662, 688.401]\n",
      "12\n",
      "cc [30.362, 673.077, 75.662, 688.401]\n",
      "13\n",
      "cc [30.362, 673.077, 75.662, 688.401]\n",
      "cab [30.362, 145.533, 82.406, 160.857]\n",
      "14\n",
      "cab [30.362, 673.077, 82.406, 688.401]\n",
      "23\n",
      "pp [80.618, 497.177, 169.938, 509.887]\n",
      "cc [80.618, 480.185, 117.638, 492.895]\n",
      "cab [80.618, 463.193, 123.398, 475.903]\n",
      "26\n",
      "pp [30.362, 673.077, 140.462, 688.401]\n",
      "cc [30.362, 531.525, 75.662, 546.849]\n",
      "cab [30.362, 389.973, 82.406, 405.297]\n"
     ]
    }
   ],
   "source": [
    "# Third, let's get how many expenses are in each category.\n",
    "\n",
    "for cat in pagerefs.keys()[:1]:\n",
    "    print cat\n",
    "    for page in pagerefs[cat]:\n",
    "        if int(page) > 4: # this ignores the first four pages - summary and cover pages\n",
    "            print page\n",
    "            tree = pdf.get_tree(page)\n",
    "            for element in tree.iter():\n",
    "                if element.text != None:\n",
    "                    if element.text != '':\n",
    "                        if element.text.strip() == 'Family':\n",
    "                            print 'family',ast.literal_eval(element.get('bbox'))\n",
    "                        if element.text.strip() == 'Private-Plated Vehicle':\n",
    "                            print 'pp',ast.literal_eval(element.get('bbox'))\n",
    "                        if element.text.strip() == 'COMCAR':\n",
    "                            print 'cc',ast.literal_eval(element.get('bbox'))\n",
    "                        if element.text.strip() == 'Cabcharge':\n",
    "                            print 'cab',ast.literal_eval(element.get('bbox'))\n",
    "         \n",
    "            \n"
   ]
  },
  {
   "cell_type": "code",
   "execution_count": null,
   "metadata": {
    "collapsed": false
   },
   "outputs": [],
   "source": []
  },
  {
   "cell_type": "code",
   "execution_count": null,
   "metadata": {
    "collapsed": true
   },
   "outputs": [],
   "source": [
    "\n",
    "\n",
    "# Fourt, let's compare the expenses with the totals."
   ]
  },
  {
   "cell_type": "code",
   "execution_count": 18,
   "metadata": {
    "collapsed": false
   },
   "outputs": [
    {
     "name": "stdout",
     "output_type": "stream",
     "text": [
      "0 Ms Gai Brodtmann MP  [44.536, 518.031, 266.176, 548.535]\n",
      "0 Expenditure on Entitlements paid by the  [44.536, 450.271, 372.136, 475.691]\n",
      "0 Department of Finance  [44.536, 425.863, 231.976, 451.283]\n",
      "0 1 July to 31 December 2014  [44.536, 377.695, 267.256, 403.495]\n",
      "0 Final Report  [44.536, 306.843, 135.13, 329.757]\n",
      "1 1 July to 31 December 2014  [31.658, 567.114, 145.668, 579.884]\n",
      "1 Ms Gai Brodtmann MP  [31.658, 542.998, 142.478, 558.25]\n",
      "1 Summary of Parliamentary Expenditure  [278.403, 503.011, 508.143, 520.889]\n",
      "1 Paid between 1 July and 31 December 2014  [294.243, 483.961, 492.386, 498.008]\n",
      "1 Ms Gai Brodtmann MP  [31.226, 402.775, 105.106, 412.943]\n",
      "1 Canberra  [154.059, 402.775, 183.931, 412.943]\n",
      "1 $708.00  [237.003, 403.313, 260.019, 412.21]\n",
      "1 $0.00  [289.995, 403.313, 305.927, 412.21]\n",
      "1 $2,771.03  [335.211, 403.313, 363.512, 412.21]\n",
      "1 $0.00  [388.995, 403.313, 404.927, 412.21]\n",
      "1 $7,131.82  [433.059, 403.313, 461.36, 412.21]\n",
      "1 $66,530.61  [481.011, 403.313, 512.854, 412.21]\n",
      "1 $18,142.40  [526.515, 403.313, 558.358, 412.21]\n",
      "1 $57,005.25  [577.635, 403.313, 609.478, 412.21]\n",
      "1 $2,820.78  [647.619, 403.313, 675.92, 412.21]\n",
      "1 $0.00  [721.635, 403.313, 737.567, 412.21]\n",
      "1 1-10 See Explanatory Notes  [50.018, 49.62, 130.836, 60.532]\n",
      "1 Name  [31.226, 432.871, 50.962, 443.087]\n",
      "1 Home Base  [154.059, 432.871, 191.363, 443.087]\n",
      "1 Travelling  [231.387, 437.767, 265.707, 447.983]\n",
      "1 Allowance 1  [228.579, 427.975, 268.553, 438.191]\n",
      "1 Overseas  [281.859, 437.767, 314.059, 447.983]\n",
      "1 Travel 2  [285.099, 427.975, 310.961, 438.191]\n",
      "1 Domestic  [332.907, 442.663, 365.835, 452.879]\n",
      "1 Scheduled  [331.323, 432.871, 367.411, 443.087]\n",
      "1 Fares 3  [337.875, 423.079, 360.929, 433.295]\n",
      "1 Charter 4  [381.867, 432.871, 412.193, 443.087]\n",
      "1 Car Costs 5  [428.523, 432.871, 464.393, 443.087]\n",
      "1 Office  [486.123, 437.767, 507.723, 447.983]\n",
      "1 Facilities 6  [479.859, 427.975, 514.001, 438.191]\n",
      "1 Office Fit  [526.515, 437.767, 558.315, 447.983]\n",
      "1 Outs 7  [531.771, 427.975, 552.809, 438.191]\n",
      "1 Administrative  [568.059, 432.871, 618.979, 443.087]\n",
      "1 Office  [582.747, 442.663, 604.347, 452.879]\n",
      "1 Costs 8  [582.027, 423.079, 605.081, 433.295]\n",
      "1 Telecommunications 9  [624.651, 432.871, 699.041, 443.087]\n",
      "1 Family Travel  [706.659, 437.767, 752.603, 447.983]\n",
      "1 Costs 10  [716.307, 427.975, 742.903, 438.191]\n",
      "1 Page 1 of 17  [718.245, 19.404, 763.209, 29.718]\n",
      "2 1 July to 31 December 2014  [30.362, 747.114, 144.372, 759.884]\n",
      "2 Ms Gai Brodtmann MP  [30.362, 722.998, 141.182, 738.25]\n",
      "2 Summary of Parliamentary Expenditure by Period  [170.979, 683.267, 438.506, 699.868]\n",
      "2 Expenses From  [348.099, 633.041, 410.189, 645.811]\n",
      "2 1 July 2014  [364.515, 620.873, 410.175, 633.643]\n",
      "2 Expenses Before  [476.979, 633.041, 545.179, 645.811]\n",
      "2 1 July 2014  [499.515, 620.873, 545.175, 633.643]\n",
      "2 Parliamentary Travelling Allowance  [52.106, 587.681, 195.196, 600.391]\n",
      "2 Fares  [52.106, 531.161, 73.846, 543.871]\n",
      "2 Private-Plated Vehicle  [52.106, 474.641, 141.426, 487.351]\n",
      "2 COMCAR  [52.106, 457.649, 89.126, 470.359]\n",
      "2 Office Consumables and Services  [52.106, 381.329, 185.516, 394.039]\n",
      "2 Printing and Communications  [52.106, 364.337, 172.096, 377.047]\n",
      "2 Publications  [52.106, 347.273, 101.416, 359.983]\n",
      "2 Telecommunications - Usage  [52.106, 310.553, 168.876, 323.263]\n",
      "2 Telecommunications - Residential - Official  [52.106, 293.489, 225.046, 306.199]\n",
      "2 Family Travel Costs  [39.146, 273.761, 118.656, 286.531]\n",
      "2 Total Expenditure  [39.146, 252.775, 120.37, 266.822]\n",
      "2 $708.00  [377.331, 587.681, 410.211, 600.391]\n",
      "2 $2,771.03  [369.771, 531.161, 410.201, 543.871]\n",
      "2 $4,668.12  [369.771, 474.641, 410.201, 487.351]\n",
      "2 $1,593.51  [369.771, 457.649, 410.201, 470.359]\n",
      "2 $8,788.44  [369.771, 381.329, 410.201, 394.039]\n",
      "2 $7,076.19  [369.771, 364.337, 410.201, 377.047]\n",
      "2 $265.91  [377.331, 347.273, 410.211, 359.983]\n",
      "2 $1,887.74  [369.771, 310.553, 410.201, 323.263]\n",
      "2 $933.04  [377.331, 293.489, 410.211, 306.199]\n",
      "2 $0.00  [387.411, 273.761, 410.171, 286.471]\n",
      "2 $113,550.24  [354.291, 252.775, 410.149, 266.822]\n",
      "2 $0.00  [522.411, 587.681, 545.171, 600.391]\n",
      "2 $0.00  [522.411, 531.161, 545.171, 543.871]\n",
      "2 $870.19  [512.331, 474.641, 545.211, 487.351]\n",
      "2 $0.00  [522.411, 457.649, 545.171, 470.359]\n",
      "2 $193.28  [512.331, 381.329, 545.211, 394.039]\n",
      "2 $40,681.43  [499.659, 364.337, 545.149, 377.047]\n",
      "2 $0.00  [522.411, 347.273, 545.171, 359.983]\n",
      "2 $0.00  [522.411, 310.553, 545.171, 323.263]\n",
      "2 $0.00  [522.411, 293.489, 545.171, 306.199]\n",
      "2 $0.00  [522.411, 273.761, 545.171, 286.471]\n",
      "2 $41,559.65  [494.835, 252.775, 545.127, 266.822]\n",
      "2 Travelling Allowance  [39.146, 604.745, 125.316, 617.515]\n",
      "2 Overseas Travel  [39.146, 567.953, 105.036, 580.723]\n",
      "2 $0.00  [387.411, 567.953, 410.171, 580.663]\n",
      "2 $0.00  [522.411, 567.953, 545.171, 580.663]\n",
      "2 Domestic Scheduled Fares  [39.146, 548.153, 147.486, 560.923]\n",
      "2 Charter  [39.146, 511.433, 70.316, 524.203]\n",
      "2 $0.00  [387.411, 511.433, 410.171, 524.143]\n",
      "2 $0.00  [522.411, 511.433, 545.171, 524.143]\n",
      "2 Car Costs  [39.146, 491.633, 77.256, 504.403]\n",
      "2 Office Facilities  [39.146, 437.849, 102.106, 450.619]\n",
      "2 $66,715.86  [364.659, 437.849, 410.149, 450.559]\n",
      "2 -$185.25  [509.235, 437.849, 545.175, 450.559]\n",
      "2 Office Fit Outs  [39.146, 418.121, 98.456, 430.891]\n",
      "2 $18,142.40  [364.659, 418.121, 410.149, 430.831]\n",
      "2 $0.00  [522.411, 418.121, 545.171, 430.831]\n",
      "2 Office Administrative Costs  [39.146, 398.321, 151.876, 411.091]\n",
      "2 Telecommunications  [39.146, 327.545, 125.316, 340.315]\n",
      "2 Page 2 of 17  [538.245, 19.404, 583.209, 29.718]\n",
      "3 Ms Gai Brodtmann MP  [44.536, 518.031, 266.176, 548.535]\n",
      "3 Supporting Information for Expenditure on Entitlements  [44.536, 452.643, 454.018, 475.863]\n",
      "3 paid between 1 July and 31 December 2014 relating to  [44.536, 430.683, 445.18, 453.903]\n",
      "3 usage from 1 July 2014  [44.536, 408.723, 211.972, 431.943]\n",
      "3 Final Report  [44.536, 342.843, 135.13, 365.757]\n",
      "3 Page 3 of 17  [521.521, 19.404, 566.485, 29.718]\n",
      "4 1 July to 31 December 2014  [31.658, 747.114, 145.668, 759.884]\n",
      "4 Ms Gai Brodtmann MP  [31.658, 722.998, 142.478, 738.25]\n",
      "4 Summary of Parliamentary Expenditure  [174.147, 646.661, 436.707, 667.093]\n",
      "4 Expenses from 1 July 2014  [230.667, 629.521, 380.397, 647.315]\n",
      "4 Parliamentary Travelling Allowance  [80.618, 565.217, 223.708, 577.927]\n",
      "4 Fares  [80.618, 531.233, 102.358, 543.943]\n",
      "4 Car Costs  [67.586, 514.169, 105.696, 526.939]\n",
      "4 Private-Plated Vehicle  [80.618, 497.177, 169.938, 509.887]\n",
      "4 COMCAR  [80.618, 480.185, 117.638, 492.895]\n",
      "4 Office Facilities  [67.586, 463.193, 130.546, 475.963]\n",
      "4 Office Fit Outs  [67.586, 446.201, 126.896, 458.971]\n",
      "4 Office Administrative Costs  [67.586, 429.137, 180.316, 441.907]\n",
      "4 Office Consumables and Services  [80.618, 412.145, 214.028, 424.855]\n",
      "4 Printing and Communications  [80.618, 395.153, 200.608, 407.863]\n",
      "4 Publications  [80.618, 378.161, 129.928, 390.871]\n",
      "4 Telecommunications - Usage  [80.618, 344.105, 197.388, 356.815]\n",
      "4 Telecommunications - Residential - Official  [80.618, 327.113, 253.558, 339.823]\n",
      "4 This Period  [492.531, 599.273, 538.611, 612.043]\n",
      "4 $708.00  [505.779, 565.217, 538.659, 577.927]\n",
      "4 $2,771.03  [498.219, 531.233, 538.649, 543.943]\n",
      "4 $4,668.12  [498.219, 497.177, 538.649, 509.887]\n",
      "4 $1,593.51  [498.219, 480.185, 538.649, 492.895]\n",
      "4 $66,715.86  [493.107, 463.193, 538.597, 475.903]\n",
      "4 $18,142.40  [493.107, 446.201, 538.597, 458.911]\n",
      "4 $8,788.44  [498.219, 412.145, 538.649, 424.855]\n",
      "4 $7,076.19  [498.219, 395.153, 538.649, 407.863]\n",
      "4 $265.91  [505.779, 378.161, 538.659, 390.871]\n",
      "4 $1,887.74  [498.219, 344.105, 538.649, 356.815]\n",
      "4 $933.04  [505.779, 327.113, 538.659, 339.823]\n",
      "4 Travelling Allowance  [67.586, 582.209, 153.756, 594.979]\n",
      "4 Domestic Scheduled Fares  [67.586, 548.225, 175.926, 560.995]\n",
      "4 Telecommunications  [67.586, 361.097, 153.756, 373.867]\n",
      "4 Page 4 of 17  [538.245, 19.404, 583.209, 29.718]\n",
      "5 1 July to 31 December 2014  [31.658, 747.114, 145.668, 759.884]\n",
      "5 Ms Gai Brodtmann MP  [31.658, 722.998, 142.478, 738.25]\n",
      "5 Travelling Allowance  [30.866, 691.729, 151.504, 709.607]\n",
      "5 Parliamentary Travelling Allowance  [30.866, 673.077, 207.566, 688.401]\n",
      "5 Transaction Details - From 1 July 2014  [390.651, 722.998, 578.655, 738.322]\n",
      "5 Date From  [30.866, 646.971, 70.115, 658.464]\n",
      "5 28 Jul 14  [30.866, 633.181, 59.25, 643.349]\n",
      "5 Date To  [89.114, 646.971, 118.184, 658.464]\n",
      "5 29 Jul 14  [89.114, 633.181, 117.498, 643.349]\n",
      "5 Location  [145.923, 646.971, 177.729, 658.464]\n",
      "5 Adelaide  [145.923, 633.181, 174.395, 643.349]\n",
      "5 Details  [222.459, 646.971, 248.199, 658.464]\n",
      "5 Shadow Parliamentary Secretary - Official  [222.459, 633.181, 359.051, 643.349]\n",
      "5 Business  [222.459, 623.389, 250.395, 633.557]\n",
      "5 2  [385.395, 633.181, 389.443, 643.349]\n",
      "5 2  [385.179, 608.379, 389.733, 619.872]\n",
      "5 Rate  [421.251, 646.971, 438.387, 658.464]\n",
      "5 $354.00  [416.643, 633.181, 442.947, 643.349]\n",
      "5 Amount  [526.875, 646.971, 557.232, 658.464]\n",
      "5 $708.00  [530.907, 633.181, 557.211, 643.349]\n",
      "5 $708.00  [527.451, 608.379, 557.178, 619.872]\n",
      "5 No. of  [374.955, 657.987, 399.858, 669.48]\n",
      "5 Nights  [375.459, 646.971, 399.372, 658.464]\n",
      "5 Spouse  [463.083, 646.971, 489.921, 658.464]\n",
      "5 Page 5 of 17  [538.245, 19.404, 583.209, 29.718]\n",
      "6 1 July to 31 December 2014  [31.658, 747.114, 145.668, 759.884]\n",
      "6 Ms Gai Brodtmann MP  [31.658, 722.998, 142.478, 738.25]\n",
      "6 Domestic Scheduled Fares  [30.362, 691.729, 182.038, 709.607]\n",
      "6 Fares  [30.362, 673.077, 56.846, 688.401]\n",
      "6 Details  [30.362, 655.937, 58.962, 668.707]\n",
      "6 28 Jul 14 - Canberra to Adelaide  [30.362, 642.181, 133.658, 652.349]\n",
      "6 30 Jul 14 - Adelaide to Sydney  [30.362, 626.629, 127.066, 636.797]\n",
      "6 30 Jul 14 - Sydney to Canberra  [30.362, 611.149, 128.466, 621.317]\n",
      "6 22 Sep 14 - Canberra to Melbourne  [30.362, 595.669, 144.674, 605.837]\n",
      "6 22 Sep 14 - Melbourne to Canberra  [30.362, 580.117, 144.674, 590.285]\n",
      "6 19 Nov 14 - Canberra to Sydney  [30.362, 564.637, 132.874, 574.805]\n",
      "6 19 Nov 14 - Sydney to Canberra  [30.362, 549.157, 132.874, 559.325]\n",
      "6 28 Nov 14 - Canberra to Sydney  [30.362, 533.605, 132.874, 543.773]\n",
      "6 28 Nov 14 - Sydney to Canberra  [30.362, 518.125, 132.874, 528.293]\n",
      "6 Transaction Details - From 1 July 2014  [393.387, 722.998, 581.391, 738.322]\n",
      "6 Amount  [435.075, 655.937, 468.805, 668.707]\n",
      "6 $459.04  [442.491, 642.181, 468.795, 652.349]\n",
      "6 $476.85  [442.491, 626.629, 468.795, 636.797]\n",
      "6 $344.14  [442.491, 595.669, 468.795, 605.837]\n",
      "6 $344.12  [442.491, 580.117, 468.795, 590.285]\n",
      "6 $280.81  [442.491, 564.637, 468.795, 574.805]\n",
      "6 $280.81  [442.491, 549.157, 468.795, 559.325]\n",
      "6 $292.63  [442.491, 533.605, 468.795, 543.773]\n",
      "6 $292.63  [442.491, 518.125, 468.795, 528.293]\n",
      "6 $2,771.03  [432.195, 501.387, 468.789, 512.88]\n",
      "6 Notes  [502.539, 655.937, 526.959, 668.707]\n",
      "6 Page 6 of 17  [538.245, 19.404, 583.209, 29.718]\n",
      "7 1 July to 31 December 2014  [31.658, 747.114, 145.668, 759.884]\n",
      "7 Ms Gai Brodtmann MP  [31.658, 722.998, 142.478, 738.25]\n",
      "7 Car Costs  [30.362, 691.729, 83.716, 709.607]\n",
      "7 Private-Plated Vehicle  [30.362, 673.077, 140.462, 688.401]\n",
      "7 Details  [30.362, 655.937, 58.962, 668.707]\n",
      "7 Fuel 12 Jul 14  [30.362, 642.181, 74.234, 652.349]\n",
      "7 Lease 18 Jul to 17 Aug 14  [30.362, 626.629, 111.818, 636.797]\n",
      "7 Fuel 2 Aug 14  [30.362, 611.149, 74.194, 621.317]\n",
      "7 Lease 18 Aug to 17 Sep 14  [30.362, 595.669, 115.09, 605.837]\n",
      "7 Fuel 31 Aug to 15 Sep 14  [30.362, 580.117, 110.498, 590.285]\n",
      "7 Lease 18 Sep to 17 Oct14  [30.362, 564.637, 112.042, 574.805]\n",
      "7 Fuel 29 Sep 14  [30.362, 549.157, 79.314, 559.325]\n",
      "7 Lease 18 Oct to 17 Nov 14  [30.362, 533.605, 114.986, 543.773]\n",
      "7 Fuel 24 Oct to 15 Nov 14  [30.362, 518.125, 110.394, 528.293]\n",
      "7 Accident excess 28 Oct 14  [30.362, 502.573, 116.242, 512.741]\n",
      "7 Lease 18 Nov to 17 Dec 14  [30.362, 487.093, 115.914, 497.261]\n",
      "7 COMCAR  [30.362, 421.725, 75.662, 437.049]\n",
      "7 Details  [30.362, 404.585, 58.962, 417.355]\n",
      "7 28 Jul 14 - Canberra  [30.362, 390.829, 94.682, 400.997]\n",
      "7 28 Jul 14 - Adelaide  [30.362, 375.349, 93.282, 385.517]\n",
      "7 28 Jul 14 - Adelaide  [30.362, 359.797, 93.282, 369.965]\n",
      "7 28 Jul 14 - Adelaide  [30.362, 344.317, 93.282, 354.485]\n",
      "7 28 Jul 14 - Adelaide  [30.362, 328.837, 93.282, 339.005]\n",
      "7 29 Jul 14 - Adelaide  [30.362, 313.285, 93.282, 323.453]\n",
      "7 30 Jul 14 - Adelaide  [30.362, 297.805, 93.282, 307.973]\n",
      "7 30 Jul 14 - Adelaide  [30.362, 282.325, 93.282, 292.493]\n",
      "7 30 Jul 14 - Canberra  [30.362, 266.773, 94.682, 276.941]\n",
      "7 22 Sep 14 - Canberra  [30.362, 251.293, 97.954, 261.461]\n",
      "7 22 Sep 14 - Melbourne  [30.362, 235.741, 104.298, 245.909]\n",
      "7 22 Sep 14 - Melbourne  [30.362, 220.261, 104.298, 230.429]\n",
      "7 22 Sep 14 - Canberra  [30.362, 204.781, 97.954, 214.949]\n",
      "7 29 Oct 14 - Canberra  [30.362, 189.229, 97.45, 199.397]\n",
      "7 11 Nov 14 - Canberra  [30.362, 173.749, 99.09, 183.917]\n",
      "7 11 Nov 14 - Canberra  [30.362, 158.197, 99.09, 168.365]\n",
      "7 19 Nov 14 - Canberra  [30.362, 142.717, 99.09, 152.885]\n",
      "7 19 Nov 14 - Sydney  [30.362, 127.237, 92.498, 137.405]\n",
      "7 19 Nov 14 - Canberra  [30.362, 111.685, 99.09, 121.853]\n",
      "7 21 Nov 14 - Canberra  [30.362, 96.205, 99.09, 106.373]\n",
      "7 21 Nov 14 - Canberra  [30.362, 80.653, 99.09, 90.821]\n",
      "7 28 Nov 14 - Sydney  [30.362, 65.173, 92.498, 75.341]\n",
      "7 Transaction Details - From 1 July 2014  [393.387, 722.998, 581.391, 738.322]\n",
      "7 Amount  [435.075, 655.937, 468.805, 668.707]\n",
      "7 $79.65  [446.523, 642.181, 468.779, 652.349]\n",
      "7 $713.79  [442.491, 626.629, 468.795, 636.797]\n",
      "7 $76.65  [446.523, 611.149, 468.779, 621.317]\n",
      "7 $713.79  [442.491, 595.669, 468.795, 605.837]\n",
      "7 $145.93  [442.491, 580.117, 468.795, 590.285]\n",
      "7 $713.79  [442.491, 564.637, 468.795, 574.805]\n",
      "7 $76.51  [446.523, 549.157, 468.779, 559.325]\n",
      "7 $713.79  [442.491, 533.605, 468.795, 543.773]\n",
      "7 $220.43  [442.491, 518.125, 468.795, 528.293]\n",
      "7 $500.00  [442.491, 502.573, 468.795, 512.741]\n",
      "7 $713.79  [442.491, 487.093, 468.795, 497.261]\n",
      "7 $4,668.12  [432.195, 470.427, 468.789, 481.92]\n",
      "7 Amount  [435.075, 404.585, 468.805, 417.355]\n",
      "7 $40.00  [446.523, 390.829, 468.779, 400.997]\n",
      "7 $41.80  [446.523, 375.349, 468.779, 385.517]\n",
      "7 $40.00  [446.523, 359.797, 468.779, 369.965]\n",
      "7 $187.33  [442.491, 344.317, 468.795, 354.485]\n",
      "7 $347.15  [442.491, 328.837, 468.795, 339.005]\n",
      "7 $66.81  [446.523, 313.285, 468.779, 323.453]\n",
      "7 $40.00  [446.523, 297.805, 468.779, 307.973]\n",
      "7 $40.00  [446.523, 282.325, 468.779, 292.493]\n",
      "7 $41.80  [446.523, 266.773, 468.779, 276.941]\n",
      "7 $40.00  [446.523, 251.293, 468.779, 261.461]\n",
      "7 $74.67  [446.523, 235.741, 468.779, 245.909]\n",
      "7 $120.52  [442.491, 220.261, 468.795, 230.429]\n",
      "7 $41.80  [446.523, 204.781, 468.779, 214.949]\n",
      "7 $40.00  [446.523, 189.229, 468.779, 199.397]\n",
      "7 $40.00  [446.523, 173.749, 468.779, 183.917]\n",
      "7 $40.00  [446.523, 158.197, 468.779, 168.365]\n",
      "7 $40.00  [446.523, 142.717, 468.779, 152.885]\n",
      "7 $41.92  [446.523, 127.237, 468.779, 137.405]\n",
      "7 $41.80  [446.523, 111.685, 468.779, 121.853]\n",
      "7 $41.92  [446.523, 96.205, 468.779, 106.373]\n",
      "7 $40.00  [446.523, 80.653, 468.779, 90.821]\n",
      "7 $40.00  [446.523, 65.173, 468.779, 75.341]\n",
      "7 Page 7 of 17  [538.245, 19.404, 583.209, 29.718]\n",
      "8 1 July to 31 December 2014  [31.658, 747.114, 145.668, 759.884]\n",
      "8 Ms Gai Brodtmann MP  [31.658, 722.998, 142.478, 738.25]\n",
      "8 Car Costs  [30.362, 691.729, 83.716, 709.607]\n",
      "8 COMCAR  [30.362, 673.077, 75.662, 688.401]\n",
      "8 Details  [30.362, 655.937, 58.962, 668.707]\n",
      "8 28 Nov 14 - Sydney  [30.362, 642.181, 92.498, 652.349]\n",
      "8 28 Nov 14 - Canberra  [30.362, 626.629, 99.09, 636.797]\n",
      "8 Transaction Details - From 1 July 2014  [393.387, 722.998, 581.391, 738.322]\n",
      "8 Amount  [435.075, 655.937, 468.805, 668.707]\n",
      "8 $64.19  [446.523, 642.181, 468.779, 652.349]\n",
      "8 $41.80  [446.523, 626.629, 468.779, 636.797]\n",
      "8 $1,593.51  [432.195, 609.963, 468.789, 621.456]\n",
      "8 Page 8 of 17  [538.245, 19.404, 583.209, 29.718]\n",
      "9 1 July to 31 December 2014  [31.658, 747.114, 145.668, 759.884]\n",
      "9 Ms Gai Brodtmann MP  [31.658, 722.998, 142.478, 738.25]\n",
      "9 Office Facilities  [30.362, 691.729, 118.506, 709.607]\n",
      "9 Details  [30.362, 657.593, 58.962, 670.363]\n",
      "9 Aggregated Total  [30.362, 643.837, 85.962, 654.005]\n",
      "9 Transaction Details - From 1 July 2014  [393.387, 722.998, 581.391, 738.322]\n",
      "9 Amount  [435.075, 657.593, 468.805, 670.363]\n",
      "9 $66,715.86  [432.195, 643.837, 468.771, 654.053]\n",
      "9 Page 9 of 17  [538.245, 19.404, 583.209, 29.718]\n",
      "10 1 July to 31 December 2014  [31.658, 747.114, 145.668, 759.884]\n",
      "10 Ms Gai Brodtmann MP  [31.658, 722.998, 142.478, 738.25]\n",
      "10 Office Fit Outs  [30.362, 691.729, 113.396, 709.607]\n",
      "10 Details  [30.362, 657.593, 58.962, 670.363]\n",
      "10 Aggregated Total  [30.362, 643.837, 85.962, 654.005]\n",
      "10 Transaction Details - From 1 July 2014  [393.387, 722.998, 581.391, 738.322]\n",
      "10 Amount  [435.075, 657.593, 468.805, 670.363]\n",
      "10 $18,142.40  [432.195, 643.837, 468.771, 654.053]\n",
      "10 Page 10 of 17  [533.682, 19.404, 583.209, 29.718]\n",
      "11 1 July to 31 December 2014  [31.658, 747.114, 145.668, 759.884]\n",
      "11 Ms Gai Brodtmann MP  [31.658, 722.998, 142.478, 738.25]\n",
      "11 Office Administrative Costs  [30.362, 691.729, 188.184, 709.607]\n",
      "11 Office Consumables and Services  [30.362, 673.077, 193.658, 688.401]\n",
      "11 Details  [30.362, 655.937, 58.962, 668.707]\n",
      "11 MFD Monochrome copy charge 28 Jul to 27 Aug 14  [30.362, 642.181, 196.13, 652.349]\n",
      "11 MFD Colour copy charge 28 Jul to 27 Aug 14  [30.362, 626.629, 173.242, 636.797]\n",
      "11 General office consumables 1 Aug to 31 Aug 14  [30.362, 611.149, 183.514, 621.317]\n",
      "11 Photocopy paper 1 Aug to 31 Aug 14  [30.362, 595.669, 149.146, 605.837]\n",
      "11 MFD Monochrome copy charge 28 Aug to 27 Sep 14  [30.362, 580.117, 199.402, 590.285]\n",
      "11 MFD Colour copy charge 28 Aug to 27 Sep 14  [30.362, 564.637, 176.514, 574.805]\n",
      "11 General office consumables 1 Sep to 30 Sep 14  [30.362, 549.157, 182.042, 559.325]\n",
      "11 Software reimbursement 2014/15  [30.362, 533.605, 141.154, 543.773]\n",
      "11 MFD Colour copy charge 28 Sep to 27 Oct 14  [30.362, 518.125, 175.274, 528.293]\n",
      "11 MFD Monochrome copy charge 28 Sep to 27 Oct 14  [30.362, 502.573, 198.162, 512.741]\n",
      "11 General office consumables 1 Oct to 31 Oct 14  [30.362, 487.093, 181.034, 497.261]\n",
      "11 Photocopy paper 1 Oct to 31 Oct 14  [30.362, 471.613, 146.666, 481.781]\n",
      "11 MFD Colour copy charge 28 Oct to 27 Nov 14  [30.362, 456.061, 176.41, 466.229]\n",
      "11 MFD Monochrome copy charge 28 Oct to 27 Nov 14  [30.362, 440.581, 199.298, 450.749]\n",
      "11 General office consumables 1 Nov to 30 Nov 14  [30.362, 425.029, 184.314, 435.197]\n",
      "11 Flags 1 Dec 14  [30.362, 409.549, 76.426, 419.717]\n",
      "11 Flags 1 Dec 14  [30.362, 394.069, 76.426, 404.237]\n",
      "11 Flags 1 Dec 14  [30.362, 378.517, 76.426, 388.685]\n",
      "11 Flags 1 Dec 14  [30.362, 363.037, 76.426, 373.205]\n",
      "11 Flags 1 Dec 14  [30.362, 347.485, 76.426, 357.653]\n",
      "11 Printing and Communications  [30.362, 282.189, 177.578, 297.513]\n",
      "11 Details  [30.362, 265.049, 58.962, 277.819]\n",
      "11 Distribution credit 1 Sep to 30 Sep 14  [30.362, 251.293, 151.17, 261.461]\n",
      "11 Distribution 1 Sep to 30 Sep 14  [30.362, 235.741, 130.522, 245.909]\n",
      "11 Distribution credit 1 Oct to 31 Oct 14  [30.362, 220.261, 150.162, 230.429]\n",
      "11 Distribution 1 Oct to 31 Oct 14  [30.362, 204.781, 129.514, 214.949]\n",
      "11 Publications  [30.362, 139.413, 91.166, 154.737]\n",
      "11 Details  [30.362, 122.273, 58.962, 135.043]\n",
      "11 182 The Canberra Times 26 Jul 14 to 24 Jan 15  [30.362, 108.517, 180.17, 118.685]\n",
      "11 Transaction Details - From 1 July 2014  [393.387, 722.998, 581.391, 738.322]\n",
      "11 Amount  [435.075, 655.937, 468.805, 668.707]\n",
      "11 $16.12  [446.523, 642.181, 468.779, 652.349]\n",
      "11 $10.40  [446.523, 626.629, 468.779, 636.797]\n",
      "11 $257.92  [442.491, 611.149, 468.795, 621.317]\n",
      "11 $27.52  [446.523, 595.669, 468.779, 605.837]\n",
      "11 $35.47  [446.523, 580.117, 468.779, 590.285]\n",
      "11 $687.83  [442.491, 564.637, 468.795, 574.805]\n",
      "11 $401.77  [442.491, 549.157, 468.795, 559.325]\n",
      "11 $1,500.00  [436.443, 533.605, 468.787, 543.773]\n",
      "11 $47.82  [446.523, 518.125, 468.779, 528.293]\n",
      "11 $5.85  [450.627, 502.573, 468.835, 512.741]\n",
      "11 $140.89  [442.491, 487.093, 468.795, 497.261]\n",
      "11 $116.40  [442.491, 471.613, 468.795, 481.781]\n",
      "11 $52.23  [446.523, 456.061, 468.779, 466.229]\n",
      "11 $4.13  [450.627, 440.581, 468.835, 450.749]\n",
      "11 $397.72  [442.491, 425.029, 468.795, 435.197]\n",
      "11 $540.91  [442.491, 409.549, 468.795, 419.717]\n",
      "11 $1,131.82  [436.443, 394.069, 468.787, 404.237]\n",
      "11 $554.55  [442.491, 378.517, 468.795, 388.685]\n",
      "11 $1,109.09  [436.443, 363.037, 468.787, 373.205]\n",
      "11 $1,750.00  [436.443, 347.485, 468.787, 357.653]\n",
      "11 $8,788.44  [432.195, 330.819, 468.789, 342.312]\n",
      "11 Amount  [435.075, 265.049, 468.805, 277.819]\n",
      "11 -$45.45  [444.075, 251.293, 468.779, 261.461]\n",
      "11 $6,678.45  [436.443, 235.741, 468.787, 245.909]\n",
      "11 -$11.36  [444.075, 220.261, 468.779, 230.429]\n",
      "11 $454.55  [442.491, 204.781, 468.795, 214.949]\n",
      "11 $7,076.19  [432.195, 188.043, 468.789, 199.536]\n",
      "11 Amount  [435.075, 122.273, 468.805, 135.043]\n",
      "11 $265.91  [442.491, 108.517, 468.795, 118.685]\n",
      "11 $265.91  [439.035, 91.779, 468.762, 103.272]\n",
      "11 Page 11 of 17  [533.682, 19.404, 583.209, 29.718]\n",
      "12 1 July to 31 December 2014  [31.658, 747.114, 145.668, 759.884]\n",
      "12 Ms Gai Brodtmann MP  [31.658, 722.998, 142.478, 738.25]\n",
      "12 Telecommunications  [30.362, 691.729, 151.0, 709.607]\n",
      "12 Telecommunications - Usage  [30.362, 673.077, 173.102, 688.401]\n",
      "12 Details  [30.362, 655.937, 58.962, 668.707]\n",
      "12 Office phones 2 Jul 14  [30.362, 642.181, 101.594, 652.349]\n",
      "12 Office fax 2 Jul 14  [30.362, 626.629, 87.41, 636.797]\n",
      "12 Office phones 1 Aug 14  [30.362, 611.149, 105.602, 621.317]\n",
      "12 Office fax 1 Aug 14  [30.362, 595.669, 91.418, 605.837]\n",
      "12 Office phones 1 Sep 14  [30.362, 580.117, 104.866, 590.285]\n",
      "12 Office fax 1 Sep 14  [30.362, 564.637, 90.682, 574.805]\n",
      "12 Office phones 2 Oct 14  [30.362, 549.157, 104.362, 559.325]\n",
      "12 Office fax 2 Oct 14  [30.362, 533.605, 90.178, 543.773]\n",
      "12 Office phones 1 Nov 14  [30.362, 518.125, 106.002, 528.293]\n",
      "12 Office fax 1 Nov 14  [30.362, 502.573, 91.818, 512.741]\n",
      "12 Office phones 2 Dec 14  [30.362, 487.093, 105.29, 497.261]\n",
      "12 Office fax 2 Dec 14  [30.362, 471.613, 91.106, 481.781]\n",
      "12 Telecommunications - Residential - Official  [30.362, 406.245, 242.75, 421.569]\n",
      "12 Details  [30.362, 389.105, 58.962, 401.875]\n",
      "12 Residential phones 2 Jul 14  [30.362, 375.349, 118.05, 385.517]\n",
      "12 Dedicated data line 2 Jul 14  [30.362, 359.797, 119.482, 369.965]\n",
      "12 Residential phones 1 Aug 14  [30.362, 344.317, 122.058, 354.485]\n",
      "12 Dedicated data line 1 Aug 14  [30.362, 328.837, 123.49, 339.005]\n",
      "12 Residential phones 1 Sep 14  [30.362, 313.285, 121.322, 323.453]\n",
      "12 Dedicated data line 1 Sep 14  [30.362, 297.805, 122.754, 307.973]\n",
      "12 Residential phones 2 Oct 14  [30.362, 282.325, 120.818, 292.493]\n",
      "12 Dedicated data line 2 Oct 14  [30.362, 266.773, 122.25, 276.941]\n",
      "12 Residential phones 1 Nov 14  [30.362, 251.293, 122.458, 261.461]\n",
      "12 Dedicated data line 1 Nov 14  [30.362, 235.741, 123.89, 245.909]\n",
      "12 Residential phones 2 Dec 14  [30.362, 220.261, 121.746, 230.429]\n",
      "12 Dedicated data line 2 Dec 14  [30.362, 204.781, 123.178, 214.949]\n",
      "12 Transaction Details - From 1 July 2014  [393.387, 722.998, 581.391, 738.322]\n",
      "12 Amount  [435.075, 655.937, 468.805, 668.707]\n",
      "12 $265.64  [442.491, 642.181, 468.795, 652.349]\n",
      "12 $33.46  [446.523, 626.629, 468.779, 636.797]\n",
      "12 $262.37  [442.491, 611.149, 468.795, 621.317]\n",
      "12 $33.46  [446.523, 595.669, 468.779, 605.837]\n",
      "12 $292.19  [442.491, 580.117, 468.795, 590.285]\n",
      "12 $32.43  [446.523, 564.637, 468.779, 574.805]\n",
      "12 $283.35  [442.491, 549.157, 468.795, 559.325]\n",
      "12 $32.95  [446.523, 533.605, 468.779, 543.773]\n",
      "12 $280.31  [442.491, 518.125, 468.795, 528.293]\n",
      "12 $32.16  [446.523, 502.573, 468.779, 512.741]\n",
      "12 $307.13  [442.491, 487.093, 468.795, 497.261]\n",
      "12 $32.29  [446.523, 471.613, 468.779, 481.781]\n",
      "12 $1,887.74  [432.195, 454.875, 468.789, 466.368]\n",
      "12 Amount  [435.075, 389.105, 468.805, 401.875]\n",
      "12 $106.15  [442.491, 375.349, 468.795, 385.517]\n",
      "12 $54.50  [446.523, 359.797, 468.779, 369.965]\n",
      "12 $96.51  [446.523, 344.317, 468.779, 354.485]\n",
      "12 $54.50  [446.523, 328.837, 468.779, 339.005]\n",
      "12 $102.23  [442.491, 313.285, 468.795, 323.453]\n",
      "12 $54.50  [446.523, 297.805, 468.779, 307.973]\n",
      "12 $96.06  [446.523, 282.325, 468.779, 292.493]\n",
      "12 $54.50  [446.523, 266.773, 468.779, 276.941]\n",
      "12 $106.85  [442.491, 251.293, 468.795, 261.461]\n",
      "12 $54.50  [446.523, 235.741, 468.779, 245.909]\n",
      "12 $98.24  [446.523, 220.261, 468.779, 230.429]\n",
      "12 $54.50  [446.523, 204.781, 468.779, 214.949]\n",
      "12 $933.04  [439.035, 188.043, 468.762, 199.536]\n",
      "12 Page 12 of 17  [533.682, 19.404, 583.209, 29.718]\n",
      "13 Ms Gai Brodtmann MP  [44.536, 518.031, 266.176, 548.535]\n",
      "13 Supporting Information for Expenditure on Entitlements  [44.536, 452.643, 454.018, 475.863]\n",
      "13 paid between 1 July and 31 December 2014 relating to  [44.536, 430.683, 445.18, 453.903]\n",
      "13 usage before 1 July 2014  [44.536, 408.723, 224.212, 431.943]\n",
      "13 Final Report  [44.536, 342.843, 135.13, 365.757]\n",
      "13 Page 13 of 17  [516.958, 19.404, 566.485, 29.718]\n",
      "14 1 July to 31 December 2014  [31.658, 747.114, 145.668, 759.884]\n",
      "14 Ms Gai Brodtmann MP  [31.658, 722.998, 142.478, 738.25]\n",
      "14 Summary of Parliamentary Expenditure  [174.147, 646.661, 436.707, 667.093]\n",
      "14 Expenses before 1 July 2014  [225.627, 629.521, 385.437, 647.315]\n",
      "14 Private-Plated Vehicle  [80.618, 565.217, 169.938, 577.927]\n",
      "14 Office Facilities  [67.586, 548.225, 130.546, 560.995]\n",
      "14 Office Administrative Costs  [67.586, 531.233, 180.316, 544.003]\n",
      "14 Office Consumables and Services  [80.618, 514.169, 214.028, 526.879]\n",
      "14 Printing and Communications  [80.618, 497.177, 200.608, 509.887]\n",
      "14 This Period  [492.531, 599.273, 538.611, 612.043]\n",
      "14 $870.19  [505.779, 565.217, 538.659, 577.927]\n",
      "14 -$185.25  [502.683, 548.225, 538.623, 560.935]\n",
      "14 $193.28  [505.779, 514.169, 538.659, 526.879]\n",
      "14 $40,681.43  [493.107, 497.177, 538.597, 509.887]\n",
      "14 Car Costs  [67.586, 582.209, 105.696, 594.979]\n",
      "14 Page 14 of 17  [533.682, 19.404, 583.209, 29.718]\n",
      "15 1 July to 31 December 2014  [31.658, 747.114, 145.668, 759.884]\n",
      "15 Ms Gai Brodtmann MP  [31.658, 722.998, 142.478, 738.25]\n",
      "15 Car Costs  [30.362, 691.729, 83.716, 709.607]\n",
      "15 Private-Plated Vehicle  [30.362, 673.077, 140.462, 688.401]\n",
      "15 Details  [30.362, 655.937, 58.962, 668.707]\n",
      "15 Fuel 22 May to 21 Jun 14  [30.362, 642.181, 111.29, 652.349]\n",
      "15 Lease 18 Jun to 17 Jul 14  [30.362, 626.629, 110.178, 636.797]\n",
      "15 Transaction Details - Before 1 July 2014  [386.043, 722.998, 581.391, 738.322]\n",
      "15 Amount  [435.075, 655.937, 468.805, 668.707]\n",
      "15 $156.40  [442.491, 642.181, 468.795, 652.349]\n",
      "15 $713.79  [442.491, 626.629, 468.795, 636.797]\n",
      "15 $870.19  [442.347, 611.149, 468.771, 621.365]\n",
      "15 Page 15 of 17  [533.682, 19.404, 583.209, 29.718]\n",
      "16 1 July to 31 December 2014  [31.658, 747.114, 145.668, 759.884]\n",
      "16 Ms Gai Brodtmann MP  [31.658, 722.998, 142.478, 738.25]\n",
      "16 Office Facilities  [30.362, 691.729, 118.506, 709.607]\n",
      "16 Details  [30.362, 657.593, 58.962, 670.363]\n",
      "16 Aggregated Total  [30.362, 643.837, 85.962, 654.005]\n",
      "16 Transaction Details - Before 1 July 2014  [386.043, 722.998, 581.391, 738.322]\n",
      "16 Amount  [435.075, 657.593, 468.805, 670.363]\n",
      "16 -$185.25  [439.899, 643.837, 468.771, 654.053]\n",
      "16 Page 16 of 17  [533.682, 19.404, 583.209, 29.718]\n",
      "17 1 July to 31 December 2014  [31.658, 747.114, 145.668, 759.884]\n",
      "17 Ms Gai Brodtmann MP  [31.658, 722.998, 142.478, 738.25]\n",
      "17 Office Administrative Costs  [30.362, 691.729, 188.184, 709.607]\n",
      "17 Office Consumables and Services  [30.362, 673.077, 193.658, 688.401]\n",
      "17 Details  [30.362, 655.937, 58.962, 668.707]\n",
      "17 General office consumables adj 1 Mar to 31 Mar 14  [30.362, 642.181, 196.994, 652.349]\n",
      "17 Occupational health and safety adj 1 Mar to 31 Mar 14  [30.362, 626.629, 207.882, 636.797]\n",
      "17 Printer consumables adj 1 Mar to 31 Mar 14  [30.362, 611.149, 173.642, 621.317]\n",
      "17 MFD Monochrome copy charge 28 May to 27 Jun 14  [30.362, 595.669, 200.194, 605.837]\n",
      "17 MFD Colour copy charge 28 May to 27 Jun 14  [30.362, 580.117, 177.306, 590.285]\n",
      "17 General office consumables 1 Jun to 30 Jun 14  [30.362, 564.637, 180.234, 574.805]\n",
      "17 MFD Monochrome copy charge 28 Jun to 27 Jul 14  [30.362, 549.157, 194.49, 559.325]\n",
      "17 MFD Colour copy charge 28 Jun to 27 Jul 14  [30.362, 533.605, 171.602, 543.773]\n",
      "17 Printing and Communications  [30.362, 469.461, 177.578, 484.785]\n",
      "17 Details  [30.362, 452.393, 58.962, 465.163]\n",
      "17 Distribution credit 1 Jun to 30 Jun 14  [30.362, 438.565, 149.362, 448.733]\n",
      "17 Distribution 1 Jun to 30 Jun 14  [30.362, 423.085, 128.714, 433.253]\n",
      "17 77,000 Printed items 19 Jun 14  [30.362, 407.605, 130.554, 417.773]\n",
      "17 77,000 Printed items 27 Jun 14  [30.362, 392.053, 130.554, 402.221]\n",
      "17 5,000 Printed items 27 Jun 14  [30.362, 376.573, 126.506, 386.741]\n",
      "17 15,000 Printed items 27 Jun 14  [30.362, 361.021, 130.554, 371.189]\n",
      "17 Transaction Details - Before 1 July 2014  [386.043, 722.998, 581.391, 738.322]\n",
      "17 Amount  [435.075, 655.937, 468.805, 668.707]\n",
      "17 -$58.84  [444.075, 642.181, 468.779, 652.349]\n",
      "17 -$22.17  [444.075, 626.629, 468.779, 636.797]\n",
      "17 -$13.14  [444.075, 611.149, 468.779, 621.317]\n",
      "17 $2.04  [450.627, 595.669, 468.835, 605.837]\n",
      "17 $35.15  [446.523, 580.117, 468.779, 590.285]\n",
      "17 $126.78  [442.491, 564.637, 468.795, 574.805]\n",
      "17 $1.87  [450.627, 549.157, 468.835, 559.325]\n",
      "17 $121.59  [442.491, 533.605, 468.795, 543.773]\n",
      "17 $193.28  [442.347, 518.125, 468.771, 528.341]\n",
      "17 Amount  [435.075, 452.393, 468.805, 465.163]\n",
      "17 -$13,477.19  [429.963, 438.565, 468.803, 448.733]\n",
      "17 $35,822.62  [432.411, 423.085, 468.803, 433.253]\n",
      "17 $8,791.00  [436.443, 407.605, 468.787, 417.773]\n",
      "17 $5,866.00  [436.443, 392.053, 468.787, 402.221]\n",
      "17 $2,380.00  [436.443, 376.573, 468.787, 386.741]\n",
      "17 $1,299.00  [436.443, 361.021, 468.787, 371.189]\n",
      "17 $40,681.43  [432.195, 345.541, 468.771, 355.757]\n",
      "17 Page 17 of 17  [533.682, 19.404, 583.209, 29.718]\n"
     ]
    }
   ],
   "source": [
    "import ast\n",
    "\n",
    "page = 0\n",
    "dics = {}\n",
    "for i,element in enumerate(tree.iter()):\n",
    "    if element.tag == \"LTPage\":\n",
    "        page = element.get(\"page_index\")\n",
    "        dics[page]={}\n",
    "    if element.tag != \"pdfxml\":\n",
    "        if element.text != '':\n",
    "            if element.text != None:\n",
    "                if round(ast.literal_eval(element.get(\"bbox\"))[1],1) in dics[page].keys():\n",
    "                    print page,element.text,element.get(\"bbox\")\n",
    "                    dics[page][round(ast.literal_eval(element.get(\"bbox\"))[1],1)].append(element.text)\n",
    "                else:\n",
    "                    print page,element.text,element.get(\"bbox\")\n",
    "                    dics[page][round(ast.literal_eval(element.get(\"bbox\"))[1],1)] = [element.text]"
   ]
  },
  {
   "cell_type": "code",
   "execution_count": 94,
   "metadata": {
    "collapsed": false
   },
   "outputs": [
    {
     "data": {
      "text/plain": [
       "True"
      ]
     },
     "execution_count": 94,
     "metadata": {},
     "output_type": "execute_result"
    }
   ],
   "source": [
    "x = 2\n",
    "\n",
    "1<x<2.1"
   ]
  },
  {
   "cell_type": "code",
   "execution_count": 61,
   "metadata": {
    "collapsed": false
   },
   "outputs": [
    {
     "ename": "SelectorSyntaxError",
     "evalue": "Expected selector, got <DELIM '/' at 0>",
     "output_type": "error",
     "traceback": [
      "\u001b[0;36m  File \u001b[0;32m\"<string>\"\u001b[0;36m, line \u001b[0;32munknown\u001b[0m\n\u001b[0;31mSelectorSyntaxError\u001b[0m\u001b[0;31m:\u001b[0m Expected selector, got <DELIM '/' at 0>\n"
     ]
    }
   ],
   "source": []
  },
  {
   "cell_type": "code",
   "execution_count": 50,
   "metadata": {
    "collapsed": false
   },
   "outputs": [
    {
     "data": {
      "text/plain": [
       "'LTTextLineHorizontal'"
      ]
     },
     "execution_count": 50,
     "metadata": {},
     "output_type": "execute_result"
    }
   ],
   "source": [
    "x0,y0,x1,y1"
   ]
  },
  {
   "cell_type": "code",
   "execution_count": 47,
   "metadata": {
    "collapsed": false
   },
   "outputs": [
    {
     "data": {
      "text/plain": [
       "<Element LTTextLineHorizontal at 0x107b5faa0>"
      ]
     },
     "execution_count": 47,
     "metadata": {},
     "output_type": "execute_result"
    }
   ],
   "source": [
    "y."
   ]
  },
  {
   "cell_type": "code",
   "execution_count": 114,
   "metadata": {
    "collapsed": false
   },
   "outputs": [
    {
     "data": {
      "text/plain": [
       "Type\n",
       "Additional Printing and Communications             2423.19\n",
       "COMCAR                                          1637429.17\n",
       "COMCAR - Family                                   32309.36\n",
       "Cabcharge                                         55918.72\n",
       "Cabcharge - Family                                  138.55\n",
       "Car Costs                                             0.00\n",
       "Charter                                               0.00\n",
       "Daily Expense Allowance                            9102.00\n",
       "Domestic Scheduled Fares                              0.00\n",
       "Domestic Scheduled Fares - Family                998265.87\n",
       "Electorate                                       320327.86\n",
       "Family Travel Costs                                   0.00\n",
       "Fares                                           6468418.72\n",
       "Ministerial Visits                              2678365.28\n",
       "Office Administrative Costs                           0.00\n",
       "Office Consumables and Services                 2742120.88\n",
       "Office Facilities                              16435076.10\n",
       "Office Fit Outs                                 4668925.48\n",
       "Office Holder                                    324871.42\n",
       "Official Visits                                  261444.72\n",
       "Other Car Costs                                   71928.95\n",
       "Other Car Costs - Family                           1574.64\n",
       "Overseas Study Entitlement                       114227.05\n",
       "Overseas Travel                                       0.00\n",
       "Parking                                            8501.28\n",
       "Parliamentary Delegations                        541137.33\n",
       "Parliamentary Travelling Allowance              4046184.73\n",
       "Printing and Communications                     7980114.63\n",
       "Private Vehicle Allowance                         51804.10\n",
       "Private Vehicle Allowance - Family                 3149.56\n",
       "Private-Plated Vehicle                          1745282.67\n",
       "Publications                                     380087.02\n",
       "Representing Australia                            25040.23\n",
       "Representing a Minister                            1602.58\n",
       "SMOS Approved                                     56513.83\n",
       "Telecommunications                                    0.00\n",
       "Telecommunications - Residential - Official      154658.60\n",
       "Telecommunications - Usage                       653178.76\n",
       "Total Expenditure                              52475329.25\n",
       "Travelling Allowance                                  0.00\n",
       "Name: Amount, dtype: float64"
      ]
     },
     "execution_count": 114,
     "metadata": {},
     "output_type": "execute_result"
    }
   ],
   "source": [
    "df.groupby('Type').sum()['Amount']"
   ]
  },
  {
   "cell_type": "code",
   "execution_count": 128,
   "metadata": {
    "collapsed": false
   },
   "outputs": [
    {
     "name": "stderr",
     "output_type": "stream",
     "text": [
      "/Applications/anaconda/lib/python2.7/site-packages/ipykernel/__main__.py:2: FutureWarning: sort(columns=....) is deprecated, use sort_values(by=.....)\n",
      "  from ipykernel import kernelapp as app\n"
     ]
    },
    {
     "data": {
      "text/plain": [
       "'Parliamentary Travelling Allowance'"
      ]
     },
     "metadata": {},
     "output_type": "display_data"
    },
    {
     "data": {
      "text/html": [
       "<div>\n",
       "<table border=\"1\" class=\"dataframe\">\n",
       "  <thead>\n",
       "    <tr style=\"text-align: right;\">\n",
       "      <th></th>\n",
       "      <th>Amount</th>\n",
       "    </tr>\n",
       "    <tr>\n",
       "      <th>Name</th>\n",
       "      <th></th>\n",
       "    </tr>\n",
       "  </thead>\n",
       "  <tbody>\n",
       "    <tr>\n",
       "      <th>The Hon Warren Snowdon MP</th>\n",
       "      <td>43615</td>\n",
       "    </tr>\n",
       "    <tr>\n",
       "      <th>The Hon Warren Truss MP</th>\n",
       "      <td>36930</td>\n",
       "    </tr>\n",
       "    <tr>\n",
       "      <th>Senator the Hon Nigel Scullion</th>\n",
       "      <td>36348</td>\n",
       "    </tr>\n",
       "  </tbody>\n",
       "</table>\n",
       "</div>"
      ],
      "text/plain": [
       "                                Amount\n",
       "Name                                  \n",
       "The Hon Warren Snowdon MP        43615\n",
       "The Hon Warren Truss MP          36930\n",
       "Senator the Hon Nigel Scullion   36348"
      ]
     },
     "metadata": {},
     "output_type": "display_data"
    },
    {
     "data": {
      "text/plain": [
       "'Fares'"
      ]
     },
     "metadata": {},
     "output_type": "display_data"
    },
    {
     "data": {
      "text/html": [
       "<div>\n",
       "<table border=\"1\" class=\"dataframe\">\n",
       "  <thead>\n",
       "    <tr style=\"text-align: right;\">\n",
       "      <th></th>\n",
       "      <th>Amount</th>\n",
       "    </tr>\n",
       "    <tr>\n",
       "      <th>Name</th>\n",
       "      <th></th>\n",
       "    </tr>\n",
       "  </thead>\n",
       "  <tbody>\n",
       "    <tr>\n",
       "      <th>Senator Rachel Siewert</th>\n",
       "      <td>89849.19</td>\n",
       "    </tr>\n",
       "    <tr>\n",
       "      <th>Senator the Hon Mathias Cormann</th>\n",
       "      <td>84984.66</td>\n",
       "    </tr>\n",
       "    <tr>\n",
       "      <th>The Hon Michael Keenan MP</th>\n",
       "      <td>79415.42</td>\n",
       "    </tr>\n",
       "  </tbody>\n",
       "</table>\n",
       "</div>"
      ],
      "text/plain": [
       "                                   Amount\n",
       "Name                                     \n",
       "Senator Rachel Siewert           89849.19\n",
       "Senator the Hon Mathias Cormann  84984.66\n",
       "The Hon Michael Keenan MP        79415.42"
      ]
     },
     "metadata": {},
     "output_type": "display_data"
    },
    {
     "data": {
      "text/plain": [
       "'Private-Plated Vehicle'"
      ]
     },
     "metadata": {},
     "output_type": "display_data"
    },
    {
     "data": {
      "text/html": [
       "<div>\n",
       "<table border=\"1\" class=\"dataframe\">\n",
       "  <thead>\n",
       "    <tr style=\"text-align: right;\">\n",
       "      <th></th>\n",
       "      <th>Amount</th>\n",
       "    </tr>\n",
       "    <tr>\n",
       "      <th>Name</th>\n",
       "      <th></th>\n",
       "    </tr>\n",
       "  </thead>\n",
       "  <tbody>\n",
       "    <tr>\n",
       "      <th>The Hon Warren Snowdon MP</th>\n",
       "      <td>41020.92</td>\n",
       "    </tr>\n",
       "    <tr>\n",
       "      <th>Mr Rick Wilson MP</th>\n",
       "      <td>24581.07</td>\n",
       "    </tr>\n",
       "    <tr>\n",
       "      <th>The Hon Barnaby Joyce MP</th>\n",
       "      <td>22397.98</td>\n",
       "    </tr>\n",
       "  </tbody>\n",
       "</table>\n",
       "</div>"
      ],
      "text/plain": [
       "                             Amount\n",
       "Name                               \n",
       "The Hon Warren Snowdon MP  41020.92\n",
       "Mr Rick Wilson MP          24581.07\n",
       "The Hon Barnaby Joyce MP   22397.98"
      ]
     },
     "metadata": {},
     "output_type": "display_data"
    },
    {
     "data": {
      "text/plain": [
       "'COMCAR'"
      ]
     },
     "metadata": {},
     "output_type": "display_data"
    },
    {
     "data": {
      "text/html": [
       "<div>\n",
       "<table border=\"1\" class=\"dataframe\">\n",
       "  <thead>\n",
       "    <tr style=\"text-align: right;\">\n",
       "      <th></th>\n",
       "      <th>Amount</th>\n",
       "    </tr>\n",
       "    <tr>\n",
       "      <th>Name</th>\n",
       "      <th></th>\n",
       "    </tr>\n",
       "  </thead>\n",
       "  <tbody>\n",
       "    <tr>\n",
       "      <th>The Hon Tony Abbott MP</th>\n",
       "      <td>77352.24</td>\n",
       "    </tr>\n",
       "    <tr>\n",
       "      <th>The Hon Bill Shorten MP</th>\n",
       "      <td>41624.31</td>\n",
       "    </tr>\n",
       "    <tr>\n",
       "      <th>The Hon Bob Katter MP</th>\n",
       "      <td>41442.39</td>\n",
       "    </tr>\n",
       "  </tbody>\n",
       "</table>\n",
       "</div>"
      ],
      "text/plain": [
       "                           Amount\n",
       "Name                             \n",
       "The Hon Tony Abbott MP   77352.24\n",
       "The Hon Bill Shorten MP  41624.31\n",
       "The Hon Bob Katter MP    41442.39"
      ]
     },
     "metadata": {},
     "output_type": "display_data"
    },
    {
     "data": {
      "text/plain": [
       "'Office Consumables and Services'"
      ]
     },
     "metadata": {},
     "output_type": "display_data"
    },
    {
     "data": {
      "text/html": [
       "<div>\n",
       "<table border=\"1\" class=\"dataframe\">\n",
       "  <thead>\n",
       "    <tr style=\"text-align: right;\">\n",
       "      <th></th>\n",
       "      <th>Amount</th>\n",
       "    </tr>\n",
       "    <tr>\n",
       "      <th>Name</th>\n",
       "      <th></th>\n",
       "    </tr>\n",
       "  </thead>\n",
       "  <tbody>\n",
       "    <tr>\n",
       "      <th>Mr Michael Sukkar MP</th>\n",
       "      <td>48564.78</td>\n",
       "    </tr>\n",
       "    <tr>\n",
       "      <th>Mr Andrew Giles MP</th>\n",
       "      <td>41643.39</td>\n",
       "    </tr>\n",
       "    <tr>\n",
       "      <th>Dr Andrew Southcott MP</th>\n",
       "      <td>33248.04</td>\n",
       "    </tr>\n",
       "  </tbody>\n",
       "</table>\n",
       "</div>"
      ],
      "text/plain": [
       "                          Amount\n",
       "Name                            \n",
       "Mr Michael Sukkar MP    48564.78\n",
       "Mr Andrew Giles MP      41643.39\n",
       "Dr Andrew Southcott MP  33248.04"
      ]
     },
     "metadata": {},
     "output_type": "display_data"
    },
    {
     "data": {
      "text/plain": [
       "'Printing and Communications'"
      ]
     },
     "metadata": {},
     "output_type": "display_data"
    },
    {
     "data": {
      "text/html": [
       "<div>\n",
       "<table border=\"1\" class=\"dataframe\">\n",
       "  <thead>\n",
       "    <tr style=\"text-align: right;\">\n",
       "      <th></th>\n",
       "      <th>Amount</th>\n",
       "    </tr>\n",
       "    <tr>\n",
       "      <th>Name</th>\n",
       "      <th></th>\n",
       "    </tr>\n",
       "  </thead>\n",
       "  <tbody>\n",
       "    <tr>\n",
       "      <th>The Hon Dr Sharman Stone MP</th>\n",
       "      <td>131945.38</td>\n",
       "    </tr>\n",
       "    <tr>\n",
       "      <th>The Hon David Feeney MP</th>\n",
       "      <td>130692.56</td>\n",
       "    </tr>\n",
       "    <tr>\n",
       "      <th>Mr Don Randall MP</th>\n",
       "      <td>101198.42</td>\n",
       "    </tr>\n",
       "  </tbody>\n",
       "</table>\n",
       "</div>"
      ],
      "text/plain": [
       "                                Amount\n",
       "Name                                  \n",
       "The Hon Dr Sharman Stone MP  131945.38\n",
       "The Hon David Feeney MP      130692.56\n",
       "Mr Don Randall MP            101198.42"
      ]
     },
     "metadata": {},
     "output_type": "display_data"
    },
    {
     "data": {
      "text/plain": [
       "'Publications'"
      ]
     },
     "metadata": {},
     "output_type": "display_data"
    },
    {
     "data": {
      "text/html": [
       "<div>\n",
       "<table border=\"1\" class=\"dataframe\">\n",
       "  <thead>\n",
       "    <tr style=\"text-align: right;\">\n",
       "      <th></th>\n",
       "      <th>Amount</th>\n",
       "    </tr>\n",
       "    <tr>\n",
       "      <th>Name</th>\n",
       "      <th></th>\n",
       "    </tr>\n",
       "  </thead>\n",
       "  <tbody>\n",
       "    <tr>\n",
       "      <th>The Hon Philip Ruddock MP</th>\n",
       "      <td>7169.84</td>\n",
       "    </tr>\n",
       "    <tr>\n",
       "      <th>Mr Michael Sukkar MP</th>\n",
       "      <td>4396.20</td>\n",
       "    </tr>\n",
       "    <tr>\n",
       "      <th>Senator the Hon Kim Carr</th>\n",
       "      <td>4006.52</td>\n",
       "    </tr>\n",
       "  </tbody>\n",
       "</table>\n",
       "</div>"
      ],
      "text/plain": [
       "                            Amount\n",
       "Name                              \n",
       "The Hon Philip Ruddock MP  7169.84\n",
       "Mr Michael Sukkar MP       4396.20\n",
       "Senator the Hon Kim Carr   4006.52"
      ]
     },
     "metadata": {},
     "output_type": "display_data"
    },
    {
     "data": {
      "text/plain": [
       "'Telecommunications - Usage'"
      ]
     },
     "metadata": {},
     "output_type": "display_data"
    },
    {
     "data": {
      "text/html": [
       "<div>\n",
       "<table border=\"1\" class=\"dataframe\">\n",
       "  <thead>\n",
       "    <tr style=\"text-align: right;\">\n",
       "      <th></th>\n",
       "      <th>Amount</th>\n",
       "    </tr>\n",
       "    <tr>\n",
       "      <th>Name</th>\n",
       "      <th></th>\n",
       "    </tr>\n",
       "  </thead>\n",
       "  <tbody>\n",
       "    <tr>\n",
       "      <th>The Hon Warren Snowdon MP</th>\n",
       "      <td>8879.24</td>\n",
       "    </tr>\n",
       "    <tr>\n",
       "      <th>Senator the Hon Concetta Fierravanti-Wells</th>\n",
       "      <td>8405.02</td>\n",
       "    </tr>\n",
       "    <tr>\n",
       "      <th>The Hon Sussan Ley MP</th>\n",
       "      <td>8323.04</td>\n",
       "    </tr>\n",
       "  </tbody>\n",
       "</table>\n",
       "</div>"
      ],
      "text/plain": [
       "                                             Amount\n",
       "Name                                               \n",
       "The Hon Warren Snowdon MP                   8879.24\n",
       "Senator the Hon Concetta Fierravanti-Wells  8405.02\n",
       "The Hon Sussan Ley MP                       8323.04"
      ]
     },
     "metadata": {},
     "output_type": "display_data"
    },
    {
     "data": {
      "text/plain": [
       "'Telecommunications - Residential - Official'"
      ]
     },
     "metadata": {},
     "output_type": "display_data"
    },
    {
     "data": {
      "text/html": [
       "<div>\n",
       "<table border=\"1\" class=\"dataframe\">\n",
       "  <thead>\n",
       "    <tr style=\"text-align: right;\">\n",
       "      <th></th>\n",
       "      <th>Amount</th>\n",
       "    </tr>\n",
       "    <tr>\n",
       "      <th>Name</th>\n",
       "      <th></th>\n",
       "    </tr>\n",
       "  </thead>\n",
       "  <tbody>\n",
       "    <tr>\n",
       "      <th>Mr Angus Taylor MP</th>\n",
       "      <td>2605.48</td>\n",
       "    </tr>\n",
       "    <tr>\n",
       "      <th>Senator the Hon Bill Heffernan</th>\n",
       "      <td>2286.20</td>\n",
       "    </tr>\n",
       "    <tr>\n",
       "      <th>Senator the Hon Stephen Parry</th>\n",
       "      <td>2279.29</td>\n",
       "    </tr>\n",
       "  </tbody>\n",
       "</table>\n",
       "</div>"
      ],
      "text/plain": [
       "                                 Amount\n",
       "Name                                   \n",
       "Mr Angus Taylor MP              2605.48\n",
       "Senator the Hon Bill Heffernan  2286.20\n",
       "Senator the Hon Stephen Parry   2279.29"
      ]
     },
     "metadata": {},
     "output_type": "display_data"
    },
    {
     "data": {
      "text/plain": [
       "'Family Travel Costs'"
      ]
     },
     "metadata": {},
     "output_type": "display_data"
    },
    {
     "data": {
      "text/html": [
       "<div>\n",
       "<table border=\"1\" class=\"dataframe\">\n",
       "  <thead>\n",
       "    <tr style=\"text-align: right;\">\n",
       "      <th></th>\n",
       "      <th>Amount</th>\n",
       "    </tr>\n",
       "    <tr>\n",
       "      <th>Name</th>\n",
       "      <th></th>\n",
       "    </tr>\n",
       "  </thead>\n",
       "  <tbody>\n",
       "    <tr>\n",
       "      <th>Dr Alan Eggleston</th>\n",
       "      <td>0</td>\n",
       "    </tr>\n",
       "    <tr>\n",
       "      <th>Senator Dean Smith</th>\n",
       "      <td>0</td>\n",
       "    </tr>\n",
       "    <tr>\n",
       "      <th>The Hon Bronwyn Bishop MP</th>\n",
       "      <td>0</td>\n",
       "    </tr>\n",
       "  </tbody>\n",
       "</table>\n",
       "</div>"
      ],
      "text/plain": [
       "                           Amount\n",
       "Name                             \n",
       "Dr Alan Eggleston               0\n",
       "Senator Dean Smith              0\n",
       "The Hon Bronwyn Bishop MP       0"
      ]
     },
     "metadata": {},
     "output_type": "display_data"
    },
    {
     "data": {
      "text/plain": [
       "'Total Expenditure'"
      ]
     },
     "metadata": {},
     "output_type": "display_data"
    },
    {
     "data": {
      "text/html": [
       "<div>\n",
       "<table border=\"1\" class=\"dataframe\">\n",
       "  <thead>\n",
       "    <tr style=\"text-align: right;\">\n",
       "      <th></th>\n",
       "      <th>Amount</th>\n",
       "    </tr>\n",
       "    <tr>\n",
       "      <th>Name</th>\n",
       "      <th></th>\n",
       "    </tr>\n",
       "  </thead>\n",
       "  <tbody>\n",
       "    <tr>\n",
       "      <th>The Hon Tony Abbott MP</th>\n",
       "      <td>1057675.62</td>\n",
       "    </tr>\n",
       "    <tr>\n",
       "      <th>The Hon Julie Bishop MP</th>\n",
       "      <td>866658.46</td>\n",
       "    </tr>\n",
       "    <tr>\n",
       "      <th>Mr Tony Pasin MP</th>\n",
       "      <td>851485.76</td>\n",
       "    </tr>\n",
       "  </tbody>\n",
       "</table>\n",
       "</div>"
      ],
      "text/plain": [
       "                             Amount\n",
       "Name                               \n",
       "The Hon Tony Abbott MP   1057675.62\n",
       "The Hon Julie Bishop MP   866658.46\n",
       "Mr Tony Pasin MP          851485.76"
      ]
     },
     "metadata": {},
     "output_type": "display_data"
    },
    {
     "data": {
      "text/plain": [
       "'Overseas Travel'"
      ]
     },
     "metadata": {},
     "output_type": "display_data"
    },
    {
     "data": {
      "text/html": [
       "<div>\n",
       "<table border=\"1\" class=\"dataframe\">\n",
       "  <thead>\n",
       "    <tr style=\"text-align: right;\">\n",
       "      <th></th>\n",
       "      <th>Amount</th>\n",
       "    </tr>\n",
       "    <tr>\n",
       "      <th>Name</th>\n",
       "      <th></th>\n",
       "    </tr>\n",
       "  </thead>\n",
       "  <tbody>\n",
       "    <tr>\n",
       "      <th>Dr Alan Eggleston</th>\n",
       "      <td>0</td>\n",
       "    </tr>\n",
       "    <tr>\n",
       "      <th>Senator the Hon Marise Payne</th>\n",
       "      <td>0</td>\n",
       "    </tr>\n",
       "    <tr>\n",
       "      <th>Senator the Hon Bill Heffernan</th>\n",
       "      <td>0</td>\n",
       "    </tr>\n",
       "  </tbody>\n",
       "</table>\n",
       "</div>"
      ],
      "text/plain": [
       "                                Amount\n",
       "Name                                  \n",
       "Dr Alan Eggleston                    0\n",
       "Senator the Hon Marise Payne         0\n",
       "Senator the Hon Bill Heffernan       0"
      ]
     },
     "metadata": {},
     "output_type": "display_data"
    },
    {
     "data": {
      "text/plain": [
       "'Charter'"
      ]
     },
     "metadata": {},
     "output_type": "display_data"
    },
    {
     "data": {
      "text/html": [
       "<div>\n",
       "<table border=\"1\" class=\"dataframe\">\n",
       "  <thead>\n",
       "    <tr style=\"text-align: right;\">\n",
       "      <th></th>\n",
       "      <th>Amount</th>\n",
       "    </tr>\n",
       "    <tr>\n",
       "      <th>Name</th>\n",
       "      <th></th>\n",
       "    </tr>\n",
       "  </thead>\n",
       "  <tbody>\n",
       "    <tr>\n",
       "      <th>Dr Andrew Southcott MP</th>\n",
       "      <td>0</td>\n",
       "    </tr>\n",
       "    <tr>\n",
       "      <th>Senator the Hon Mathias Cormann (a/g(cid:3)Assistant Treasurer)</th>\n",
       "      <td>0</td>\n",
       "    </tr>\n",
       "    <tr>\n",
       "      <th>Senator the Hon Penny Wong</th>\n",
       "      <td>0</td>\n",
       "    </tr>\n",
       "  </tbody>\n",
       "</table>\n",
       "</div>"
      ],
      "text/plain": [
       "                                                    Amount\n",
       "Name                                                      \n",
       "Dr Andrew Southcott MP                                   0\n",
       "Senator the Hon Mathias Cormann (a/g(cid:3)Assi...       0\n",
       "Senator the Hon Penny Wong                               0"
      ]
     },
     "metadata": {},
     "output_type": "display_data"
    },
    {
     "data": {
      "text/plain": [
       "'Office Facilities'"
      ]
     },
     "metadata": {},
     "output_type": "display_data"
    },
    {
     "data": {
      "text/html": [
       "<div>\n",
       "<table border=\"1\" class=\"dataframe\">\n",
       "  <thead>\n",
       "    <tr style=\"text-align: right;\">\n",
       "      <th></th>\n",
       "      <th>Amount</th>\n",
       "    </tr>\n",
       "    <tr>\n",
       "      <th>Name</th>\n",
       "      <th></th>\n",
       "    </tr>\n",
       "  </thead>\n",
       "  <tbody>\n",
       "    <tr>\n",
       "      <th>The Hon Scott Morrison MP</th>\n",
       "      <td>203477.98</td>\n",
       "    </tr>\n",
       "    <tr>\n",
       "      <th>The Hon Julie Bishop MP</th>\n",
       "      <td>193269.86</td>\n",
       "    </tr>\n",
       "    <tr>\n",
       "      <th>Senator the Hon Joe Ludwig</th>\n",
       "      <td>186646.94</td>\n",
       "    </tr>\n",
       "  </tbody>\n",
       "</table>\n",
       "</div>"
      ],
      "text/plain": [
       "                               Amount\n",
       "Name                                 \n",
       "The Hon Scott Morrison MP   203477.98\n",
       "The Hon Julie Bishop MP     193269.86\n",
       "Senator the Hon Joe Ludwig  186646.94"
      ]
     },
     "metadata": {},
     "output_type": "display_data"
    },
    {
     "data": {
      "text/plain": [
       "'Office Fit Outs'"
      ]
     },
     "metadata": {},
     "output_type": "display_data"
    },
    {
     "data": {
      "text/html": [
       "<div>\n",
       "<table border=\"1\" class=\"dataframe\">\n",
       "  <thead>\n",
       "    <tr style=\"text-align: right;\">\n",
       "      <th></th>\n",
       "      <th>Amount</th>\n",
       "    </tr>\n",
       "    <tr>\n",
       "      <th>Name</th>\n",
       "      <th></th>\n",
       "    </tr>\n",
       "  </thead>\n",
       "  <tbody>\n",
       "    <tr>\n",
       "      <th>Mr Tony Pasin MP</th>\n",
       "      <td>506752.40</td>\n",
       "    </tr>\n",
       "    <tr>\n",
       "      <th>Senator Jacqui Lambie</th>\n",
       "      <td>356793.46</td>\n",
       "    </tr>\n",
       "    <tr>\n",
       "      <th>Mr Tim Watts MP</th>\n",
       "      <td>340454.90</td>\n",
       "    </tr>\n",
       "  </tbody>\n",
       "</table>\n",
       "</div>"
      ],
      "text/plain": [
       "                          Amount\n",
       "Name                            \n",
       "Mr Tony Pasin MP       506752.40\n",
       "Senator Jacqui Lambie  356793.46\n",
       "Mr Tim Watts MP        340454.90"
      ]
     },
     "metadata": {},
     "output_type": "display_data"
    },
    {
     "data": {
      "text/plain": [
       "'Travelling Allowance'"
      ]
     },
     "metadata": {},
     "output_type": "display_data"
    },
    {
     "data": {
      "text/html": [
       "<div>\n",
       "<table border=\"1\" class=\"dataframe\">\n",
       "  <thead>\n",
       "    <tr style=\"text-align: right;\">\n",
       "      <th></th>\n",
       "      <th>Amount</th>\n",
       "    </tr>\n",
       "    <tr>\n",
       "      <th>Name</th>\n",
       "      <th></th>\n",
       "    </tr>\n",
       "  </thead>\n",
       "  <tbody>\n",
       "    <tr>\n",
       "      <th>Dr Mal Washer</th>\n",
       "      <td>0</td>\n",
       "    </tr>\n",
       "    <tr>\n",
       "      <th>Senator the Hon Mathias Cormann (a/g(cid:3)Assistant Treasurer)</th>\n",
       "      <td>0</td>\n",
       "    </tr>\n",
       "    <tr>\n",
       "      <th>The Hon Matt Thistlethwaite MP</th>\n",
       "      <td>0</td>\n",
       "    </tr>\n",
       "  </tbody>\n",
       "</table>\n",
       "</div>"
      ],
      "text/plain": [
       "                                                    Amount\n",
       "Name                                                      \n",
       "Dr Mal Washer                                            0\n",
       "Senator the Hon Mathias Cormann (a/g(cid:3)Assi...       0\n",
       "The Hon Matt Thistlethwaite MP                           0"
      ]
     },
     "metadata": {},
     "output_type": "display_data"
    },
    {
     "data": {
      "text/plain": [
       "'Domestic Scheduled Fares'"
      ]
     },
     "metadata": {},
     "output_type": "display_data"
    },
    {
     "data": {
      "text/html": [
       "<div>\n",
       "<table border=\"1\" class=\"dataframe\">\n",
       "  <thead>\n",
       "    <tr style=\"text-align: right;\">\n",
       "      <th></th>\n",
       "      <th>Amount</th>\n",
       "    </tr>\n",
       "    <tr>\n",
       "      <th>Name</th>\n",
       "      <th></th>\n",
       "    </tr>\n",
       "  </thead>\n",
       "  <tbody>\n",
       "    <tr>\n",
       "      <th>Dr Mal Washer</th>\n",
       "      <td>0</td>\n",
       "    </tr>\n",
       "    <tr>\n",
       "      <th>The Hon Barnaby Joyce MP</th>\n",
       "      <td>0</td>\n",
       "    </tr>\n",
       "    <tr>\n",
       "      <th>The Hon Tony Abbott MP</th>\n",
       "      <td>0</td>\n",
       "    </tr>\n",
       "  </tbody>\n",
       "</table>\n",
       "</div>"
      ],
      "text/plain": [
       "                          Amount\n",
       "Name                            \n",
       "Dr Mal Washer                  0\n",
       "The Hon Barnaby Joyce MP       0\n",
       "The Hon Tony Abbott MP         0"
      ]
     },
     "metadata": {},
     "output_type": "display_data"
    },
    {
     "data": {
      "text/plain": [
       "'Car Costs'"
      ]
     },
     "metadata": {},
     "output_type": "display_data"
    },
    {
     "data": {
      "text/html": [
       "<div>\n",
       "<table border=\"1\" class=\"dataframe\">\n",
       "  <thead>\n",
       "    <tr style=\"text-align: right;\">\n",
       "      <th></th>\n",
       "      <th>Amount</th>\n",
       "    </tr>\n",
       "    <tr>\n",
       "      <th>Name</th>\n",
       "      <th></th>\n",
       "    </tr>\n",
       "  </thead>\n",
       "  <tbody>\n",
       "    <tr>\n",
       "      <th>Dr Mal Washer</th>\n",
       "      <td>0</td>\n",
       "    </tr>\n",
       "    <tr>\n",
       "      <th>Mr Barry Haase</th>\n",
       "      <td>0</td>\n",
       "    </tr>\n",
       "    <tr>\n",
       "      <th>Mr Mike Symon</th>\n",
       "      <td>0</td>\n",
       "    </tr>\n",
       "  </tbody>\n",
       "</table>\n",
       "</div>"
      ],
      "text/plain": [
       "                Amount\n",
       "Name                  \n",
       "Dr Mal Washer        0\n",
       "Mr Barry Haase       0\n",
       "Mr Mike Symon        0"
      ]
     },
     "metadata": {},
     "output_type": "display_data"
    },
    {
     "data": {
      "text/plain": [
       "'Office Administrative Costs'"
      ]
     },
     "metadata": {},
     "output_type": "display_data"
    },
    {
     "data": {
      "text/html": [
       "<div>\n",
       "<table border=\"1\" class=\"dataframe\">\n",
       "  <thead>\n",
       "    <tr style=\"text-align: right;\">\n",
       "      <th></th>\n",
       "      <th>Amount</th>\n",
       "    </tr>\n",
       "    <tr>\n",
       "      <th>Name</th>\n",
       "      <th></th>\n",
       "    </tr>\n",
       "  </thead>\n",
       "  <tbody>\n",
       "    <tr>\n",
       "      <th>Dr Mal Washer</th>\n",
       "      <td>0</td>\n",
       "    </tr>\n",
       "    <tr>\n",
       "      <th>Mr Gary Humphries</th>\n",
       "      <td>0</td>\n",
       "    </tr>\n",
       "    <tr>\n",
       "      <th>Mr John Forrest</th>\n",
       "      <td>0</td>\n",
       "    </tr>\n",
       "  </tbody>\n",
       "</table>\n",
       "</div>"
      ],
      "text/plain": [
       "                   Amount\n",
       "Name                     \n",
       "Dr Mal Washer           0\n",
       "Mr Gary Humphries       0\n",
       "Mr John Forrest         0"
      ]
     },
     "metadata": {},
     "output_type": "display_data"
    },
    {
     "data": {
      "text/plain": [
       "'Telecommunications'"
      ]
     },
     "metadata": {},
     "output_type": "display_data"
    },
    {
     "data": {
      "text/html": [
       "<div>\n",
       "<table border=\"1\" class=\"dataframe\">\n",
       "  <thead>\n",
       "    <tr style=\"text-align: right;\">\n",
       "      <th></th>\n",
       "      <th>Amount</th>\n",
       "    </tr>\n",
       "    <tr>\n",
       "      <th>Name</th>\n",
       "      <th></th>\n",
       "    </tr>\n",
       "  </thead>\n",
       "  <tbody>\n",
       "    <tr>\n",
       "      <th>Dr Mal Washer</th>\n",
       "      <td>0</td>\n",
       "    </tr>\n",
       "    <tr>\n",
       "      <th>Mr Barry Haase</th>\n",
       "      <td>0</td>\n",
       "    </tr>\n",
       "    <tr>\n",
       "      <th>Mr Gary Humphries</th>\n",
       "      <td>0</td>\n",
       "    </tr>\n",
       "  </tbody>\n",
       "</table>\n",
       "</div>"
      ],
      "text/plain": [
       "                   Amount\n",
       "Name                     \n",
       "Dr Mal Washer           0\n",
       "Mr Barry Haase          0\n",
       "Mr Gary Humphries       0"
      ]
     },
     "metadata": {},
     "output_type": "display_data"
    },
    {
     "data": {
      "text/plain": [
       "'Overseas Study Entitlement'"
      ]
     },
     "metadata": {},
     "output_type": "display_data"
    },
    {
     "data": {
      "text/html": [
       "<div>\n",
       "<table border=\"1\" class=\"dataframe\">\n",
       "  <thead>\n",
       "    <tr style=\"text-align: right;\">\n",
       "      <th></th>\n",
       "      <th>Amount</th>\n",
       "    </tr>\n",
       "    <tr>\n",
       "      <th>Name</th>\n",
       "      <th></th>\n",
       "    </tr>\n",
       "  </thead>\n",
       "  <tbody>\n",
       "    <tr>\n",
       "      <th>Senator the Hon Stephen Conroy</th>\n",
       "      <td>13100.88</td>\n",
       "    </tr>\n",
       "    <tr>\n",
       "      <th>The Hon Laurie Ferguson MP</th>\n",
       "      <td>13100.88</td>\n",
       "    </tr>\n",
       "    <tr>\n",
       "      <th>Mr Steve Irons MP</th>\n",
       "      <td>12598.38</td>\n",
       "    </tr>\n",
       "  </tbody>\n",
       "</table>\n",
       "</div>"
      ],
      "text/plain": [
       "                                  Amount\n",
       "Name                                    \n",
       "Senator the Hon Stephen Conroy  13100.88\n",
       "The Hon Laurie Ferguson MP      13100.88\n",
       "Mr Steve Irons MP               12598.38"
      ]
     },
     "metadata": {},
     "output_type": "display_data"
    },
    {
     "data": {
      "text/plain": [
       "'Daily Expense Allowance'"
      ]
     },
     "metadata": {},
     "output_type": "display_data"
    },
    {
     "data": {
      "text/html": [
       "<div>\n",
       "<table border=\"1\" class=\"dataframe\">\n",
       "  <thead>\n",
       "    <tr style=\"text-align: right;\">\n",
       "      <th></th>\n",
       "      <th>Amount</th>\n",
       "    </tr>\n",
       "    <tr>\n",
       "      <th>Name</th>\n",
       "      <th></th>\n",
       "    </tr>\n",
       "  </thead>\n",
       "  <tbody>\n",
       "    <tr>\n",
       "      <th>Senator Zed Seselja</th>\n",
       "      <td>2896</td>\n",
       "    </tr>\n",
       "    <tr>\n",
       "      <th>Dr Peter Hendy MP</th>\n",
       "      <td>2761</td>\n",
       "    </tr>\n",
       "    <tr>\n",
       "      <th>The Hon Kate Lundy</th>\n",
       "      <td>1766</td>\n",
       "    </tr>\n",
       "  </tbody>\n",
       "</table>\n",
       "</div>"
      ],
      "text/plain": [
       "                     Amount\n",
       "Name                       \n",
       "Senator Zed Seselja    2896\n",
       "Dr Peter Hendy MP      2761\n",
       "The Hon Kate Lundy     1766"
      ]
     },
     "metadata": {},
     "output_type": "display_data"
    },
    {
     "data": {
      "text/plain": [
       "'Parliamentary Delegations'"
      ]
     },
     "metadata": {},
     "output_type": "display_data"
    },
    {
     "data": {
      "text/html": [
       "<div>\n",
       "<table border=\"1\" class=\"dataframe\">\n",
       "  <thead>\n",
       "    <tr style=\"text-align: right;\">\n",
       "      <th></th>\n",
       "      <th>Amount</th>\n",
       "    </tr>\n",
       "    <tr>\n",
       "      <th>Name</th>\n",
       "      <th></th>\n",
       "    </tr>\n",
       "  </thead>\n",
       "  <tbody>\n",
       "    <tr>\n",
       "      <th>The Hon Dr Sharman Stone MP</th>\n",
       "      <td>65835.81</td>\n",
       "    </tr>\n",
       "    <tr>\n",
       "      <th>The Hon Alan Griffin MP</th>\n",
       "      <td>53929.31</td>\n",
       "    </tr>\n",
       "    <tr>\n",
       "      <th>Senator Alex Gallacher</th>\n",
       "      <td>29519.96</td>\n",
       "    </tr>\n",
       "  </tbody>\n",
       "</table>\n",
       "</div>"
      ],
      "text/plain": [
       "                               Amount\n",
       "Name                                 \n",
       "The Hon Dr Sharman Stone MP  65835.81\n",
       "The Hon Alan Griffin MP      53929.31\n",
       "Senator Alex Gallacher       29519.96"
      ]
     },
     "metadata": {},
     "output_type": "display_data"
    },
    {
     "data": {
      "text/plain": [
       "'Parking'"
      ]
     },
     "metadata": {},
     "output_type": "display_data"
    },
    {
     "data": {
      "text/html": [
       "<div>\n",
       "<table border=\"1\" class=\"dataframe\">\n",
       "  <thead>\n",
       "    <tr style=\"text-align: right;\">\n",
       "      <th></th>\n",
       "      <th>Amount</th>\n",
       "    </tr>\n",
       "    <tr>\n",
       "      <th>Name</th>\n",
       "      <th></th>\n",
       "    </tr>\n",
       "  </thead>\n",
       "  <tbody>\n",
       "    <tr>\n",
       "      <th>Senator the Hon Mitch Fifield</th>\n",
       "      <td>1775.72</td>\n",
       "    </tr>\n",
       "    <tr>\n",
       "      <th>Mr Dan Tehan MP</th>\n",
       "      <td>1176.72</td>\n",
       "    </tr>\n",
       "    <tr>\n",
       "      <th>Senator Barry O'Sullivan</th>\n",
       "      <td>710.88</td>\n",
       "    </tr>\n",
       "  </tbody>\n",
       "</table>\n",
       "</div>"
      ],
      "text/plain": [
       "                                Amount\n",
       "Name                                  \n",
       "Senator the Hon Mitch Fifield  1775.72\n",
       "Mr Dan Tehan MP                1176.72\n",
       "Senator Barry O'Sullivan        710.88"
      ]
     },
     "metadata": {},
     "output_type": "display_data"
    },
    {
     "data": {
      "text/plain": [
       "'Representing Australia'"
      ]
     },
     "metadata": {},
     "output_type": "display_data"
    },
    {
     "data": {
      "text/html": [
       "<div>\n",
       "<table border=\"1\" class=\"dataframe\">\n",
       "  <thead>\n",
       "    <tr style=\"text-align: right;\">\n",
       "      <th></th>\n",
       "      <th>Amount</th>\n",
       "    </tr>\n",
       "    <tr>\n",
       "      <th>Name</th>\n",
       "      <th></th>\n",
       "    </tr>\n",
       "  </thead>\n",
       "  <tbody>\n",
       "    <tr>\n",
       "      <th>The Hon Matt Thistlethwaite MP</th>\n",
       "      <td>3742.47</td>\n",
       "    </tr>\n",
       "    <tr>\n",
       "      <th>Mr Bert van Manen MP</th>\n",
       "      <td>3712.40</td>\n",
       "    </tr>\n",
       "    <tr>\n",
       "      <th>Mrs Louise Markus MP</th>\n",
       "      <td>3352.64</td>\n",
       "    </tr>\n",
       "  </tbody>\n",
       "</table>\n",
       "</div>"
      ],
      "text/plain": [
       "                                 Amount\n",
       "Name                                   \n",
       "The Hon Matt Thistlethwaite MP  3742.47\n",
       "Mr Bert van Manen MP            3712.40\n",
       "Mrs Louise Markus MP            3352.64"
      ]
     },
     "metadata": {},
     "output_type": "display_data"
    },
    {
     "data": {
      "text/plain": [
       "'Cabcharge'"
      ]
     },
     "metadata": {},
     "output_type": "display_data"
    },
    {
     "data": {
      "text/html": [
       "<div>\n",
       "<table border=\"1\" class=\"dataframe\">\n",
       "  <thead>\n",
       "    <tr style=\"text-align: right;\">\n",
       "      <th></th>\n",
       "      <th>Amount</th>\n",
       "    </tr>\n",
       "    <tr>\n",
       "      <th>Name</th>\n",
       "      <th></th>\n",
       "    </tr>\n",
       "  </thead>\n",
       "  <tbody>\n",
       "    <tr>\n",
       "      <th>The Hon Bernie Ripoll MP</th>\n",
       "      <td>8881.44</td>\n",
       "    </tr>\n",
       "    <tr>\n",
       "      <th>Senator the Hon Joe Ludwig</th>\n",
       "      <td>3479.14</td>\n",
       "    </tr>\n",
       "    <tr>\n",
       "      <th>The Hon Tony Burke MP</th>\n",
       "      <td>2483.72</td>\n",
       "    </tr>\n",
       "  </tbody>\n",
       "</table>\n",
       "</div>"
      ],
      "text/plain": [
       "                             Amount\n",
       "Name                               \n",
       "The Hon Bernie Ripoll MP    8881.44\n",
       "Senator the Hon Joe Ludwig  3479.14\n",
       "The Hon Tony Burke MP       2483.72"
      ]
     },
     "metadata": {},
     "output_type": "display_data"
    },
    {
     "data": {
      "text/plain": [
       "'Other Car Costs'"
      ]
     },
     "metadata": {},
     "output_type": "display_data"
    },
    {
     "data": {
      "text/html": [
       "<div>\n",
       "<table border=\"1\" class=\"dataframe\">\n",
       "  <thead>\n",
       "    <tr style=\"text-align: right;\">\n",
       "      <th></th>\n",
       "      <th>Amount</th>\n",
       "    </tr>\n",
       "    <tr>\n",
       "      <th>Name</th>\n",
       "      <th></th>\n",
       "    </tr>\n",
       "  </thead>\n",
       "  <tbody>\n",
       "    <tr>\n",
       "      <th>Ms Melissa Price MP</th>\n",
       "      <td>5019.52</td>\n",
       "    </tr>\n",
       "    <tr>\n",
       "      <th>The Hon Gary Gray AO MP</th>\n",
       "      <td>3774.16</td>\n",
       "    </tr>\n",
       "    <tr>\n",
       "      <th>Senator Nova Peris OAM</th>\n",
       "      <td>3711.43</td>\n",
       "    </tr>\n",
       "  </tbody>\n",
       "</table>\n",
       "</div>"
      ],
      "text/plain": [
       "                          Amount\n",
       "Name                            \n",
       "Ms Melissa Price MP      5019.52\n",
       "The Hon Gary Gray AO MP  3774.16\n",
       "Senator Nova Peris OAM   3711.43"
      ]
     },
     "metadata": {},
     "output_type": "display_data"
    },
    {
     "data": {
      "text/plain": [
       "'Domestic Scheduled Fares - Family'"
      ]
     },
     "metadata": {},
     "output_type": "display_data"
    },
    {
     "data": {
      "text/html": [
       "<div>\n",
       "<table border=\"1\" class=\"dataframe\">\n",
       "  <thead>\n",
       "    <tr style=\"text-align: right;\">\n",
       "      <th></th>\n",
       "      <th>Amount</th>\n",
       "    </tr>\n",
       "    <tr>\n",
       "      <th>Name</th>\n",
       "      <th></th>\n",
       "    </tr>\n",
       "  </thead>\n",
       "  <tbody>\n",
       "    <tr>\n",
       "      <th>The Hon Peter Dutton MP</th>\n",
       "      <td>28415.12</td>\n",
       "    </tr>\n",
       "    <tr>\n",
       "      <th>Senator Nova Peris OAM</th>\n",
       "      <td>25042.65</td>\n",
       "    </tr>\n",
       "    <tr>\n",
       "      <th>The Hon Bill Shorten MP</th>\n",
       "      <td>23376.55</td>\n",
       "    </tr>\n",
       "  </tbody>\n",
       "</table>\n",
       "</div>"
      ],
      "text/plain": [
       "                           Amount\n",
       "Name                             \n",
       "The Hon Peter Dutton MP  28415.12\n",
       "Senator Nova Peris OAM   25042.65\n",
       "The Hon Bill Shorten MP  23376.55"
      ]
     },
     "metadata": {},
     "output_type": "display_data"
    },
    {
     "data": {
      "text/plain": [
       "'COMCAR - Family'"
      ]
     },
     "metadata": {},
     "output_type": "display_data"
    },
    {
     "data": {
      "text/html": [
       "<div>\n",
       "<table border=\"1\" class=\"dataframe\">\n",
       "  <thead>\n",
       "    <tr style=\"text-align: right;\">\n",
       "      <th></th>\n",
       "      <th>Amount</th>\n",
       "    </tr>\n",
       "    <tr>\n",
       "      <th>Name</th>\n",
       "      <th></th>\n",
       "    </tr>\n",
       "  </thead>\n",
       "  <tbody>\n",
       "    <tr>\n",
       "      <th>The Hon Tony Abbott MP</th>\n",
       "      <td>3083.38</td>\n",
       "    </tr>\n",
       "    <tr>\n",
       "      <th>The Hon Bill Shorten MP</th>\n",
       "      <td>1773.72</td>\n",
       "    </tr>\n",
       "    <tr>\n",
       "      <th>The Hon Kevin Andrews MP</th>\n",
       "      <td>1386.25</td>\n",
       "    </tr>\n",
       "  </tbody>\n",
       "</table>\n",
       "</div>"
      ],
      "text/plain": [
       "                           Amount\n",
       "Name                             \n",
       "The Hon Tony Abbott MP    3083.38\n",
       "The Hon Bill Shorten MP   1773.72\n",
       "The Hon Kevin Andrews MP  1386.25"
      ]
     },
     "metadata": {},
     "output_type": "display_data"
    },
    {
     "data": {
      "text/plain": [
       "'Official Visits'"
      ]
     },
     "metadata": {},
     "output_type": "display_data"
    },
    {
     "data": {
      "text/html": [
       "<div>\n",
       "<table border=\"1\" class=\"dataframe\">\n",
       "  <thead>\n",
       "    <tr style=\"text-align: right;\">\n",
       "      <th></th>\n",
       "      <th>Amount</th>\n",
       "    </tr>\n",
       "    <tr>\n",
       "      <th>Name</th>\n",
       "      <th></th>\n",
       "    </tr>\n",
       "  </thead>\n",
       "  <tbody>\n",
       "    <tr>\n",
       "      <th>The Hon Bronwyn Bishop MP</th>\n",
       "      <td>131714.06</td>\n",
       "    </tr>\n",
       "    <tr>\n",
       "      <th>The Hon Tanya Plibersek MP</th>\n",
       "      <td>39115.28</td>\n",
       "    </tr>\n",
       "    <tr>\n",
       "      <th>The Hon Bill Shorten MP</th>\n",
       "      <td>37884.99</td>\n",
       "    </tr>\n",
       "  </tbody>\n",
       "</table>\n",
       "</div>"
      ],
      "text/plain": [
       "                               Amount\n",
       "Name                                 \n",
       "The Hon Bronwyn Bishop MP   131714.06\n",
       "The Hon Tanya Plibersek MP   39115.28\n",
       "The Hon Bill Shorten MP      37884.99"
      ]
     },
     "metadata": {},
     "output_type": "display_data"
    },
    {
     "data": {
      "text/plain": [
       "'Additional Printing and Communications'"
      ]
     },
     "metadata": {},
     "output_type": "display_data"
    },
    {
     "data": {
      "text/html": [
       "<div>\n",
       "<table border=\"1\" class=\"dataframe\">\n",
       "  <thead>\n",
       "    <tr style=\"text-align: right;\">\n",
       "      <th></th>\n",
       "      <th>Amount</th>\n",
       "    </tr>\n",
       "    <tr>\n",
       "      <th>Name</th>\n",
       "      <th></th>\n",
       "    </tr>\n",
       "  </thead>\n",
       "  <tbody>\n",
       "    <tr>\n",
       "      <th>The Hon Tanya Plibersek MP</th>\n",
       "      <td>1980.00</td>\n",
       "    </tr>\n",
       "    <tr>\n",
       "      <th>The Hon Bill Shorten MP</th>\n",
       "      <td>443.19</td>\n",
       "    </tr>\n",
       "  </tbody>\n",
       "</table>\n",
       "</div>"
      ],
      "text/plain": [
       "                             Amount\n",
       "Name                               \n",
       "The Hon Tanya Plibersek MP  1980.00\n",
       "The Hon Bill Shorten MP      443.19"
      ]
     },
     "metadata": {},
     "output_type": "display_data"
    },
    {
     "data": {
      "text/plain": [
       "'Ministerial Visits'"
      ]
     },
     "metadata": {},
     "output_type": "display_data"
    },
    {
     "data": {
      "text/html": [
       "<div>\n",
       "<table border=\"1\" class=\"dataframe\">\n",
       "  <thead>\n",
       "    <tr style=\"text-align: right;\">\n",
       "      <th></th>\n",
       "      <th>Amount</th>\n",
       "    </tr>\n",
       "    <tr>\n",
       "      <th>Name</th>\n",
       "      <th></th>\n",
       "    </tr>\n",
       "  </thead>\n",
       "  <tbody>\n",
       "    <tr>\n",
       "      <th>The Hon Tony Abbott MP</th>\n",
       "      <td>814115.78</td>\n",
       "    </tr>\n",
       "    <tr>\n",
       "      <th>The Hon Julie Bishop MP</th>\n",
       "      <td>478748.31</td>\n",
       "    </tr>\n",
       "    <tr>\n",
       "      <th>The Hon Andrew Robb AO MP</th>\n",
       "      <td>279702.10</td>\n",
       "    </tr>\n",
       "  </tbody>\n",
       "</table>\n",
       "</div>"
      ],
      "text/plain": [
       "                              Amount\n",
       "Name                                \n",
       "The Hon Tony Abbott MP     814115.78\n",
       "The Hon Julie Bishop MP    478748.31\n",
       "The Hon Andrew Robb AO MP  279702.10"
      ]
     },
     "metadata": {},
     "output_type": "display_data"
    },
    {
     "data": {
      "text/plain": [
       "'Other Car Costs - Family'"
      ]
     },
     "metadata": {},
     "output_type": "display_data"
    },
    {
     "data": {
      "text/html": [
       "<div>\n",
       "<table border=\"1\" class=\"dataframe\">\n",
       "  <thead>\n",
       "    <tr style=\"text-align: right;\">\n",
       "      <th></th>\n",
       "      <th>Amount</th>\n",
       "    </tr>\n",
       "    <tr>\n",
       "      <th>Name</th>\n",
       "      <th></th>\n",
       "    </tr>\n",
       "  </thead>\n",
       "  <tbody>\n",
       "    <tr>\n",
       "      <th>Senator Nova Peris OAM</th>\n",
       "      <td>392.76</td>\n",
       "    </tr>\n",
       "    <tr>\n",
       "      <th>Mr Andrew Laming MP</th>\n",
       "      <td>375.73</td>\n",
       "    </tr>\n",
       "    <tr>\n",
       "      <th>The Hon Warren Truss MP</th>\n",
       "      <td>374.53</td>\n",
       "    </tr>\n",
       "  </tbody>\n",
       "</table>\n",
       "</div>"
      ],
      "text/plain": [
       "                         Amount\n",
       "Name                           \n",
       "Senator Nova Peris OAM   392.76\n",
       "Mr Andrew Laming MP      375.73\n",
       "The Hon Warren Truss MP  374.53"
      ]
     },
     "metadata": {},
     "output_type": "display_data"
    },
    {
     "data": {
      "text/plain": [
       "'Electorate'"
      ]
     },
     "metadata": {},
     "output_type": "display_data"
    },
    {
     "data": {
      "text/html": [
       "<div>\n",
       "<table border=\"1\" class=\"dataframe\">\n",
       "  <thead>\n",
       "    <tr style=\"text-align: right;\">\n",
       "      <th></th>\n",
       "      <th>Amount</th>\n",
       "    </tr>\n",
       "    <tr>\n",
       "      <th>Name</th>\n",
       "      <th></th>\n",
       "    </tr>\n",
       "  </thead>\n",
       "  <tbody>\n",
       "    <tr>\n",
       "      <th>The Hon Bob Katter MP</th>\n",
       "      <td>52580.10</td>\n",
       "    </tr>\n",
       "    <tr>\n",
       "      <th>Ms Melissa Price MP</th>\n",
       "      <td>30891.86</td>\n",
       "    </tr>\n",
       "    <tr>\n",
       "      <th>The Hon Bruce Scott MP</th>\n",
       "      <td>30730.00</td>\n",
       "    </tr>\n",
       "  </tbody>\n",
       "</table>\n",
       "</div>"
      ],
      "text/plain": [
       "                          Amount\n",
       "Name                            \n",
       "The Hon Bob Katter MP   52580.10\n",
       "Ms Melissa Price MP     30891.86\n",
       "The Hon Bruce Scott MP  30730.00"
      ]
     },
     "metadata": {},
     "output_type": "display_data"
    },
    {
     "data": {
      "text/plain": [
       "'Private Vehicle Allowance - Family'"
      ]
     },
     "metadata": {},
     "output_type": "display_data"
    },
    {
     "data": {
      "text/html": [
       "<div>\n",
       "<table border=\"1\" class=\"dataframe\">\n",
       "  <thead>\n",
       "    <tr style=\"text-align: right;\">\n",
       "      <th></th>\n",
       "      <th>Amount</th>\n",
       "    </tr>\n",
       "    <tr>\n",
       "      <th>Name</th>\n",
       "      <th></th>\n",
       "    </tr>\n",
       "  </thead>\n",
       "  <tbody>\n",
       "    <tr>\n",
       "      <th>Senator Ricky Muir</th>\n",
       "      <td>1627.92</td>\n",
       "    </tr>\n",
       "    <tr>\n",
       "      <th>The Hon Joel Fitzgibbon MP</th>\n",
       "      <td>675.00</td>\n",
       "    </tr>\n",
       "    <tr>\n",
       "      <th>Senator the Hon Fiona Nash</th>\n",
       "      <td>565.44</td>\n",
       "    </tr>\n",
       "  </tbody>\n",
       "</table>\n",
       "</div>"
      ],
      "text/plain": [
       "                             Amount\n",
       "Name                               \n",
       "Senator Ricky Muir          1627.92\n",
       "The Hon Joel Fitzgibbon MP   675.00\n",
       "Senator the Hon Fiona Nash   565.44"
      ]
     },
     "metadata": {},
     "output_type": "display_data"
    },
    {
     "data": {
      "text/plain": [
       "'Private Vehicle Allowance'"
      ]
     },
     "metadata": {},
     "output_type": "display_data"
    },
    {
     "data": {
      "text/html": [
       "<div>\n",
       "<table border=\"1\" class=\"dataframe\">\n",
       "  <thead>\n",
       "    <tr style=\"text-align: right;\">\n",
       "      <th></th>\n",
       "      <th>Amount</th>\n",
       "    </tr>\n",
       "    <tr>\n",
       "      <th>Name</th>\n",
       "      <th></th>\n",
       "    </tr>\n",
       "  </thead>\n",
       "  <tbody>\n",
       "    <tr>\n",
       "      <th>Mr Jason Wood MP</th>\n",
       "      <td>8843.00</td>\n",
       "    </tr>\n",
       "    <tr>\n",
       "      <th>Ms Karen McNamara MP</th>\n",
       "      <td>4894.75</td>\n",
       "    </tr>\n",
       "    <tr>\n",
       "      <th>Mr Nickolas Varvaris MP</th>\n",
       "      <td>4878.48</td>\n",
       "    </tr>\n",
       "  </tbody>\n",
       "</table>\n",
       "</div>"
      ],
      "text/plain": [
       "                          Amount\n",
       "Name                            \n",
       "Mr Jason Wood MP         8843.00\n",
       "Ms Karen McNamara MP     4894.75\n",
       "Mr Nickolas Varvaris MP  4878.48"
      ]
     },
     "metadata": {},
     "output_type": "display_data"
    },
    {
     "data": {
      "text/plain": [
       "'Cabcharge - Family'"
      ]
     },
     "metadata": {},
     "output_type": "display_data"
    },
    {
     "data": {
      "text/html": [
       "<div>\n",
       "<table border=\"1\" class=\"dataframe\">\n",
       "  <thead>\n",
       "    <tr style=\"text-align: right;\">\n",
       "      <th></th>\n",
       "      <th>Amount</th>\n",
       "    </tr>\n",
       "    <tr>\n",
       "      <th>Name</th>\n",
       "      <th></th>\n",
       "    </tr>\n",
       "  </thead>\n",
       "  <tbody>\n",
       "    <tr>\n",
       "      <th>Senator the Hon Stephen Parry</th>\n",
       "      <td>138.55</td>\n",
       "    </tr>\n",
       "  </tbody>\n",
       "</table>\n",
       "</div>"
      ],
      "text/plain": [
       "                               Amount\n",
       "Name                                 \n",
       "Senator the Hon Stephen Parry  138.55"
      ]
     },
     "metadata": {},
     "output_type": "display_data"
    },
    {
     "data": {
      "text/plain": [
       "'Representing a Minister'"
      ]
     },
     "metadata": {},
     "output_type": "display_data"
    },
    {
     "data": {
      "text/html": [
       "<div>\n",
       "<table border=\"1\" class=\"dataframe\">\n",
       "  <thead>\n",
       "    <tr style=\"text-align: right;\">\n",
       "      <th></th>\n",
       "      <th>Amount</th>\n",
       "    </tr>\n",
       "    <tr>\n",
       "      <th>Name</th>\n",
       "      <th></th>\n",
       "    </tr>\n",
       "  </thead>\n",
       "  <tbody>\n",
       "    <tr>\n",
       "      <th>The Hon Bob Baldwin MP</th>\n",
       "      <td>1480.00</td>\n",
       "    </tr>\n",
       "    <tr>\n",
       "      <th>Senator the Hon Ian Macdonald</th>\n",
       "      <td>122.58</td>\n",
       "    </tr>\n",
       "  </tbody>\n",
       "</table>\n",
       "</div>"
      ],
      "text/plain": [
       "                                Amount\n",
       "Name                                  \n",
       "The Hon Bob Baldwin MP         1480.00\n",
       "Senator the Hon Ian Macdonald   122.58"
      ]
     },
     "metadata": {},
     "output_type": "display_data"
    },
    {
     "data": {
      "text/plain": [
       "'SMOS Approved'"
      ]
     },
     "metadata": {},
     "output_type": "display_data"
    },
    {
     "data": {
      "text/html": [
       "<div>\n",
       "<table border=\"1\" class=\"dataframe\">\n",
       "  <thead>\n",
       "    <tr style=\"text-align: right;\">\n",
       "      <th></th>\n",
       "      <th>Amount</th>\n",
       "    </tr>\n",
       "    <tr>\n",
       "      <th>Name</th>\n",
       "      <th></th>\n",
       "    </tr>\n",
       "  </thead>\n",
       "  <tbody>\n",
       "    <tr>\n",
       "      <th>Mr Mark Coulton MP</th>\n",
       "      <td>35181.80</td>\n",
       "    </tr>\n",
       "    <tr>\n",
       "      <th>The Hon Darren Chester MP</th>\n",
       "      <td>15714.76</td>\n",
       "    </tr>\n",
       "    <tr>\n",
       "      <th>The Hon Alan Tudge MP</th>\n",
       "      <td>3027.27</td>\n",
       "    </tr>\n",
       "  </tbody>\n",
       "</table>\n",
       "</div>"
      ],
      "text/plain": [
       "                             Amount\n",
       "Name                               \n",
       "Mr Mark Coulton MP         35181.80\n",
       "The Hon Darren Chester MP  15714.76\n",
       "The Hon Alan Tudge MP       3027.27"
      ]
     },
     "metadata": {},
     "output_type": "display_data"
    },
    {
     "data": {
      "text/plain": [
       "'Office Holder'"
      ]
     },
     "metadata": {},
     "output_type": "display_data"
    },
    {
     "data": {
      "text/html": [
       "<div>\n",
       "<table border=\"1\" class=\"dataframe\">\n",
       "  <thead>\n",
       "    <tr style=\"text-align: right;\">\n",
       "      <th></th>\n",
       "      <th>Amount</th>\n",
       "    </tr>\n",
       "    <tr>\n",
       "      <th>Name</th>\n",
       "      <th></th>\n",
       "    </tr>\n",
       "  </thead>\n",
       "  <tbody>\n",
       "    <tr>\n",
       "      <th>The Hon Barnaby Joyce MP</th>\n",
       "      <td>75807.27</td>\n",
       "    </tr>\n",
       "    <tr>\n",
       "      <th>The Hon Warren Truss MP</th>\n",
       "      <td>67117.27</td>\n",
       "    </tr>\n",
       "    <tr>\n",
       "      <th>The Hon Ian Macfarlane MP</th>\n",
       "      <td>50410.64</td>\n",
       "    </tr>\n",
       "  </tbody>\n",
       "</table>\n",
       "</div>"
      ],
      "text/plain": [
       "                             Amount\n",
       "Name                               \n",
       "The Hon Barnaby Joyce MP   75807.27\n",
       "The Hon Warren Truss MP    67117.27\n",
       "The Hon Ian Macfarlane MP  50410.64"
      ]
     },
     "metadata": {},
     "output_type": "display_data"
    }
   ],
   "source": [
    "for cat in df['Type'].unique():\n",
    "    display(cat,df[df['Type'] == cat].groupby('Name').sum().sort('Amount',ascending=False)[:3])"
   ]
  },
  {
   "cell_type": "code",
   "execution_count": 130,
   "metadata": {
    "collapsed": false
   },
   "outputs": [
    {
     "data": {
      "text/html": [
       "<div>\n",
       "<table border=\"1\" class=\"dataframe\">\n",
       "  <thead>\n",
       "    <tr style=\"text-align: right;\">\n",
       "      <th></th>\n",
       "      <th>Name</th>\n",
       "      <th>Type</th>\n",
       "      <th>Period</th>\n",
       "      <th>Amount</th>\n",
       "    </tr>\n",
       "  </thead>\n",
       "  <tbody>\n",
       "    <tr>\n",
       "      <th>1496</th>\n",
       "      <td>The Hon Alan Tudge MP</td>\n",
       "      <td>SMOS Approved</td>\n",
       "      <td>Expenses From 1 July 2014</td>\n",
       "      <td>0.00</td>\n",
       "    </tr>\n",
       "    <tr>\n",
       "      <th>1497</th>\n",
       "      <td>The Hon Alan Tudge MP</td>\n",
       "      <td>SMOS Approved</td>\n",
       "      <td>Expenses Before 1 July 2014</td>\n",
       "      <td>3027.27</td>\n",
       "    </tr>\n",
       "    <tr>\n",
       "      <th>7008</th>\n",
       "      <td>The Hon Michael McCormack MP</td>\n",
       "      <td>SMOS Approved</td>\n",
       "      <td>Expenses From 1 July 2014</td>\n",
       "      <td>2590.00</td>\n",
       "    </tr>\n",
       "    <tr>\n",
       "      <th>7024</th>\n",
       "      <td>The Hon Michael McCormack MP</td>\n",
       "      <td>SMOS Approved</td>\n",
       "      <td>Expenses Before 1 July 2014</td>\n",
       "      <td>0.00</td>\n",
       "    </tr>\n",
       "    <tr>\n",
       "      <th>7440</th>\n",
       "      <td>The Hon Darren Chester MP</td>\n",
       "      <td>SMOS Approved</td>\n",
       "      <td>Expenses From 1 July 2014</td>\n",
       "      <td>10804.69</td>\n",
       "    </tr>\n",
       "    <tr>\n",
       "      <th>7454</th>\n",
       "      <td>The Hon Darren Chester MP</td>\n",
       "      <td>SMOS Approved</td>\n",
       "      <td>Expenses Before 1 July 2014</td>\n",
       "      <td>4910.07</td>\n",
       "    </tr>\n",
       "    <tr>\n",
       "      <th>7804</th>\n",
       "      <td>Mr Mark Coulton MP</td>\n",
       "      <td>SMOS Approved</td>\n",
       "      <td>Expenses From 1 July 2014</td>\n",
       "      <td>28272.70</td>\n",
       "    </tr>\n",
       "    <tr>\n",
       "      <th>7820</th>\n",
       "      <td>Mr Mark Coulton MP</td>\n",
       "      <td>SMOS Approved</td>\n",
       "      <td>Expenses Before 1 July 2014</td>\n",
       "      <td>6909.10</td>\n",
       "    </tr>\n",
       "  </tbody>\n",
       "</table>\n",
       "</div>"
      ],
      "text/plain": [
       "                              Name           Type  \\\n",
       "1496         The Hon Alan Tudge MP  SMOS Approved   \n",
       "1497         The Hon Alan Tudge MP  SMOS Approved   \n",
       "7008  The Hon Michael McCormack MP  SMOS Approved   \n",
       "7024  The Hon Michael McCormack MP  SMOS Approved   \n",
       "7440     The Hon Darren Chester MP  SMOS Approved   \n",
       "7454     The Hon Darren Chester MP  SMOS Approved   \n",
       "7804            Mr Mark Coulton MP  SMOS Approved   \n",
       "7820            Mr Mark Coulton MP  SMOS Approved   \n",
       "\n",
       "                            Period    Amount  \n",
       "1496    Expenses From 1 July 2014       0.00  \n",
       "1497  Expenses Before 1 July 2014    3027.27  \n",
       "7008    Expenses From 1 July 2014    2590.00  \n",
       "7024  Expenses Before 1 July 2014       0.00  \n",
       "7440    Expenses From 1 July 2014   10804.69  \n",
       "7454  Expenses Before 1 July 2014    4910.07  \n",
       "7804    Expenses From 1 July 2014   28272.70  \n",
       "7820  Expenses Before 1 July 2014    6909.10  "
      ]
     },
     "execution_count": 130,
     "metadata": {},
     "output_type": "execute_result"
    }
   ],
   "source": [
    "df[df['Type'] == 'SMOS Approved']"
   ]
  },
  {
   "cell_type": "code",
   "execution_count": null,
   "metadata": {
    "collapsed": true
   },
   "outputs": [],
   "source": []
  }
 ],
 "metadata": {
  "kernelspec": {
   "display_name": "Python 2",
   "language": "python",
   "name": "python2"
  },
  "language_info": {
   "codemirror_mode": {
    "name": "ipython",
    "version": 2
   },
   "file_extension": ".py",
   "mimetype": "text/x-python",
   "name": "python",
   "nbconvert_exporter": "python",
   "pygments_lexer": "ipython2",
   "version": "2.7.10"
  }
 },
 "nbformat": 4,
 "nbformat_minor": 0
}
